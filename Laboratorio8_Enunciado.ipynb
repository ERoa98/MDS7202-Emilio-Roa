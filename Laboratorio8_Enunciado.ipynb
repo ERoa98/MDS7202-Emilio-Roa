{
  "cells": [
    {
      "cell_type": "markdown",
      "source": [
        "<h1><center>Laboratorio 8: ¿Superhéroe o Villano? 🦸</center></h1>\n",
        "\n",
        "<center><strong>MDS7202: Laboratorio de Programación Científica para Ciencia de Datos</strong></center>"
      ],
      "metadata": {
        "id": "XUZ1dFPHzAHl",
        "cell_id": "97c30de09ab74ff8a8ead49b42589d52",
        "deepnote_cell_height": 156.390625,
        "deepnote_cell_type": "markdown"
      }
    },
    {
      "cell_type": "markdown",
      "source": [
        "### Cuerpo Docente:\n",
        "\n",
        "- Profesor: Matías Rojas y Mauricio Araneda\n",
        "- Auxiliar: Ignacio Meza D.\n",
        "- Ayudante: Rodrigo Guerra"
      ],
      "metadata": {
        "id": "UD8X1uhGzAHq",
        "cell_id": "44f0e095cf894684b9513510e9517584",
        "deepnote_cell_type": "markdown"
      }
    },
    {
      "cell_type": "markdown",
      "source": [
        "### Equipo: SUPER IMPORTANTE - notebooks sin nombre no serán revisados\n",
        "\n",
        "- Nombre de alumno 1: Emilio Roa\n"
      ],
      "metadata": {
        "id": "tXflExjqzAHr",
        "cell_id": "630dba7238124007a872bee8e5ac1068",
        "deepnote_cell_height": 171.78125,
        "deepnote_cell_type": "markdown"
      }
    },
    {
      "cell_type": "markdown",
      "source": [
        "### **Link de repositorio de GitHub:** `https://github.com/ERoa98/MDS7202-Emilio-Roa`"
      ],
      "metadata": {
        "id": "AD-V0bbZzAHr",
        "cell_id": "b3307d6b91384799b5ffb79d87b50821",
        "deepnote_cell_height": 63,
        "deepnote_cell_type": "markdown"
      }
    },
    {
      "cell_type": "markdown",
      "source": [
        "## Temas a tratar\n",
        "\n",
        "- Codificación de texto usando Bag of Words.\n",
        "- Búsqueda del modelo óptimo de clasificación usando `GridSearch`\n",
        "- Uso de pipelines.\n",
        "\n",
        "## Reglas:\n",
        "\n",
        "- **Grupos de 2 personas**\n",
        "- **Ausentes** deberán realizar la actividad solos. \n",
        "- Cualquier duda fuera del horario de clases al foro. Mensajes al equipo docente serán respondidos por este medio.\n",
        "- Prohibidas las copias. \n",
        "- Pueden usar cualquer matrial del curso que estimen conveniente.\n",
        "\n",
        "### Objetivos principales del laboratorio\n",
        "\n",
        "- Obtener caracteristicas a partir de texto usando `CountVectorizer`.\n",
        "- Fijar un pipeline con un modelo base que luego se irá optimizando.\n",
        "- Comprender como realizar una búsqueda de grilla sobre un conjunto de clasificadores e hiperparámetros usando `GridSearch`.\n",
        "\n",
        "El laboratorio deberá ser desarrollado sin el uso indiscriminado de iteradores nativos de python (aka \"for\", \"while\"). La idea es que aprendan a exprimir al máximo las funciones optimizadas que nos entrega `pandas`, las cuales vale mencionar, son bastante más eficientes que los iteradores nativos sobre DataFrames."
      ],
      "metadata": {
        "id": "6uBLPj1PzAHs",
        "cell_id": "29929e237c7e4bd58e32e7014be15f5d",
        "deepnote_cell_type": "markdown"
      }
    },
    {
      "cell_type": "markdown",
      "source": [
        "#Importamos librerias utiles 😸"
      ],
      "metadata": {
        "id": "MhISwri4zAHy",
        "cell_id": "f5ade8a9983a447fb8a70a3f15daee03",
        "deepnote_cell_height": 52.390625,
        "deepnote_cell_type": "markdown"
      }
    },
    {
      "cell_type": "code",
      "source": [
        "# Librería Core del lab.\n",
        "import numpy as np\n",
        "import pandas as pd\n",
        "from sklearn.pipeline import Pipeline\n",
        "\n",
        "from sklearn.model_selection import train_test_split \n",
        "\n",
        "# Pre-procesamiento\n",
        "from sklearn.feature_selection import SelectPercentile, f_classif\n",
        "from sklearn.compose import ColumnTransformer\n",
        "from sklearn.preprocessing import MinMaxScaler\n",
        "from sklearn.feature_extraction.text import CountVectorizer\n",
        "\n",
        "# Clasifación\n",
        "from sklearn.svm import SVC\n",
        "from sklearn.naive_bayes import MultinomialNB\n",
        "from sklearn.tree import DecisionTreeClassifier\n",
        "from sklearn.model_selection import GridSearchCV\n",
        "from sklearn.ensemble import RandomForestClassifier\n",
        "from sklearn.linear_model import LogisticRegression\n",
        "\n",
        "# Metricas de evaluación\n",
        "from sklearn.metrics import classification_report\n",
        "from sklearn.metrics import accuracy_score\n",
        "from sklearn.metrics import f1_score\n",
        "from sklearn.metrics import cohen_kappa_score\n",
        "\n",
        "# Librería para plotear\n",
        "!pip install --upgrade plotly\n",
        "import plotly.express as px\n",
        "from plotly.subplots import make_subplots\n",
        "import plotly.graph_objects as go\n",
        "\n",
        "# Proyecciones en baja dimensionalidad: UMAP\n",
        "!pip install umap-learn\n",
        "\n",
        "# Librería para NLP\n",
        "!pip install nltk\n",
        "import nltk\n",
        "from nltk.corpus import stopwords\n",
        "from nltk import word_tokenize  \n",
        "from nltk.stem import PorterStemmer\n",
        "nltk.download('stopwords')"
      ],
      "metadata": {
        "id": "uyc33dKdzAHy",
        "cell_id": "6b4998dbdd2b486f9a27fc4040ca9c26",
        "ExecuteTime": {
          "end_time": "2021-03-29T00:08:16.884674Z",
          "start_time": "2021-03-29T00:08:16.349846Z"
        },
        "source_hash": "7ce9748b",
        "execution_start": 1637348694866,
        "execution_millis": 36497,
        "deepnote_cell_height": 1509.1875,
        "deepnote_output_heights": [
          null,
          21.1875
        ],
        "deepnote_to_be_reexecuted": false,
        "deepnote_cell_type": "code",
        "colab": {
          "base_uri": "https://localhost:8080/"
        },
        "outputId": "5cc7a03b-82d9-40bc-a95a-0ff0f3420926"
      },
      "outputs": [
        {
          "output_type": "stream",
          "name": "stdout",
          "text": [
            "Looking in indexes: https://pypi.org/simple, https://us-python.pkg.dev/colab-wheels/public/simple/\n",
            "Requirement already satisfied: plotly in /usr/local/lib/python3.7/dist-packages (5.5.0)\n",
            "Collecting plotly\n",
            "  Downloading plotly-5.11.0-py2.py3-none-any.whl (15.3 MB)\n",
            "\u001b[K     |████████████████████████████████| 15.3 MB 5.1 MB/s \n",
            "\u001b[?25hRequirement already satisfied: tenacity>=6.2.0 in /usr/local/lib/python3.7/dist-packages (from plotly) (8.1.0)\n",
            "Installing collected packages: plotly\n",
            "  Attempting uninstall: plotly\n",
            "    Found existing installation: plotly 5.5.0\n",
            "    Uninstalling plotly-5.5.0:\n",
            "      Successfully uninstalled plotly-5.5.0\n",
            "Successfully installed plotly-5.11.0\n",
            "Looking in indexes: https://pypi.org/simple, https://us-python.pkg.dev/colab-wheels/public/simple/\n",
            "Collecting umap-learn\n",
            "  Downloading umap-learn-0.5.3.tar.gz (88 kB)\n",
            "\u001b[K     |████████████████████████████████| 88 kB 3.5 MB/s \n",
            "\u001b[?25hRequirement already satisfied: numpy>=1.17 in /usr/local/lib/python3.7/dist-packages (from umap-learn) (1.21.6)\n",
            "Requirement already satisfied: scikit-learn>=0.22 in /usr/local/lib/python3.7/dist-packages (from umap-learn) (1.0.2)\n",
            "Requirement already satisfied: scipy>=1.0 in /usr/local/lib/python3.7/dist-packages (from umap-learn) (1.7.3)\n",
            "Requirement already satisfied: numba>=0.49 in /usr/local/lib/python3.7/dist-packages (from umap-learn) (0.56.4)\n",
            "Collecting pynndescent>=0.5\n",
            "  Downloading pynndescent-0.5.8.tar.gz (1.1 MB)\n",
            "\u001b[K     |████████████████████████████████| 1.1 MB 38.0 MB/s \n",
            "\u001b[?25hRequirement already satisfied: tqdm in /usr/local/lib/python3.7/dist-packages (from umap-learn) (4.64.1)\n",
            "Requirement already satisfied: importlib-metadata in /usr/local/lib/python3.7/dist-packages (from numba>=0.49->umap-learn) (4.13.0)\n",
            "Requirement already satisfied: llvmlite<0.40,>=0.39.0dev0 in /usr/local/lib/python3.7/dist-packages (from numba>=0.49->umap-learn) (0.39.1)\n",
            "Requirement already satisfied: setuptools in /usr/local/lib/python3.7/dist-packages (from numba>=0.49->umap-learn) (57.4.0)\n",
            "Requirement already satisfied: joblib>=0.11 in /usr/local/lib/python3.7/dist-packages (from pynndescent>=0.5->umap-learn) (1.2.0)\n",
            "Requirement already satisfied: typing-extensions>=3.6.4 in /usr/local/lib/python3.7/dist-packages (from importlib-metadata->numba>=0.49->umap-learn) (4.1.1)\n",
            "Requirement already satisfied: zipp>=0.5 in /usr/local/lib/python3.7/dist-packages (from importlib-metadata->numba>=0.49->umap-learn) (3.10.0)\n",
            "Requirement already satisfied: threadpoolctl>=2.0.0 in /usr/local/lib/python3.7/dist-packages (from scikit-learn>=0.22->umap-learn) (3.1.0)\n",
            "Building wheels for collected packages: umap-learn, pynndescent\n",
            "  Building wheel for umap-learn (setup.py) ... \u001b[?25l\u001b[?25hdone\n",
            "  Created wheel for umap-learn: filename=umap_learn-0.5.3-py3-none-any.whl size=82830 sha256=a0cc473901addb0c54bf5ed3814bed91017ca3cbc7b86d635cea15f6ed2b0ab8\n",
            "  Stored in directory: /root/.cache/pip/wheels/b3/52/a5/1fd9e3e76a7ab34f134c07469cd6f16e27ef3a37aeff1fe821\n",
            "  Building wheel for pynndescent (setup.py) ... \u001b[?25l\u001b[?25hdone\n",
            "  Created wheel for pynndescent: filename=pynndescent-0.5.8-py3-none-any.whl size=55509 sha256=8ae18ba7f0e6da03f791ad5d09284d40ff33298fb67df7deec6cf92c0f7fc620\n",
            "  Stored in directory: /root/.cache/pip/wheels/19/bc/eb/974072a56a7082a302f8b4be1ad6d21bf5019235c2eff65928\n",
            "Successfully built umap-learn pynndescent\n",
            "Installing collected packages: pynndescent, umap-learn\n",
            "Successfully installed pynndescent-0.5.8 umap-learn-0.5.3\n",
            "Looking in indexes: https://pypi.org/simple, https://us-python.pkg.dev/colab-wheels/public/simple/\n",
            "Requirement already satisfied: nltk in /usr/local/lib/python3.7/dist-packages (3.7)\n",
            "Requirement already satisfied: tqdm in /usr/local/lib/python3.7/dist-packages (from nltk) (4.64.1)\n",
            "Requirement already satisfied: joblib in /usr/local/lib/python3.7/dist-packages (from nltk) (1.2.0)\n",
            "Requirement already satisfied: regex>=2021.8.3 in /usr/local/lib/python3.7/dist-packages (from nltk) (2022.6.2)\n",
            "Requirement already satisfied: click in /usr/local/lib/python3.7/dist-packages (from nltk) (7.1.2)\n"
          ]
        },
        {
          "output_type": "stream",
          "name": "stderr",
          "text": [
            "[nltk_data] Downloading package stopwords to /root/nltk_data...\n",
            "[nltk_data]   Unzipping corpora/stopwords.zip.\n"
          ]
        },
        {
          "output_type": "execute_result",
          "data": {
            "text/plain": [
              "True"
            ]
          },
          "metadata": {},
          "execution_count": 1
        }
      ],
      "execution_count": null
    },
    {
      "cell_type": "markdown",
      "source": [
        "# 1. ¿Quien es Bat Cow?"
      ],
      "metadata": {
        "id": "xpOTbQcxbSiy",
        "cell_id": "17fd1c4a7c1045a685dff360277240e7",
        "deepnote_cell_height": 82,
        "deepnote_cell_type": "markdown"
      }
    },
    {
      "cell_type": "markdown",
      "source": [
        "<p align=\"center\">\n",
        "  <img src=\"https://i.imgur.com/D9f1RHy.jpg\" width=\"350\">\n",
        "</p>"
      ],
      "metadata": {
        "id": "3Q93vbNS25bM",
        "cell_id": "49b52b8931f04a2fa4287082eb3da154",
        "deepnote_cell_height": 347.8125,
        "deepnote_cell_type": "markdown"
      }
    },
    {
      "cell_type": "markdown",
      "source": [
        "En vez de estar desarrollando las evaluaciones correspondientes a su curso, su profesor de catedra y su auxiliar discuten acerca la alineación (héroe o villano) del personaje de ficción Bat-Cow. \n",
        "\n",
        "El cuerpo docente, no logra ponerse de acuerdo si el personaje es bueno, neutral o malo: el auxiliar plantea que Bat-cow posee una siniestra mirada, intrigante pero común característica de los personajes malvados. \n",
        "Por otra parte, extendiendo las ideas de Rousseau, el profesor plantea que tal como los humanos no nacen malos, no existe motivo por el cual una vaca con superpoderes deba serlo.\n",
        "\n",
        "Sin embargo, ambos concuerdan que es difícil estimar la alineación solo usando los atributos físicos, por lo que creen el análisis debe ser complementado aún más antes de comunicarle los resultados a su estudiantado. Buscando más información, ambos sujetos se percatan de la existencia de un excelente antecedente para estimar la alineación: la historia personal de cada superhéroe o villano.\n",
        "\n",
        "Es por esto le solicitan que construya y optimice un clasificador basado en texto el cual analice la alineación de cada personaje basado en su historia personal.\n",
        "\n",
        "Para este laboratorio deben trabajar con los datos `df_comics.csv` y `comics_no_label.csv` subidos a u-cursos. El primero es un conjunto de datos que les servirá para entrenar un modelo de clasificación, mientras que el segundo es un dataset con personajes de ficción no etiquetados a predecir (sí, aquí está la misteriosa Batcow).\n",
        "\n",
        "Para comenzar cargue los dataset señalados y visualice a través de un head los atributos que poseen cada uno de los dataset.\n"
      ],
      "metadata": {
        "id": "jnmZfFpxTTYX",
        "cell_id": "98dbaf188dec4147b2b7e981fc64c61f",
        "deepnote_cell_height": 503.03125,
        "deepnote_cell_type": "markdown"
      }
    },
    {
      "cell_type": "code",
      "source": [
        "# Si usted está utilizando Colabolatory le puede ser útil este código para cargar los archivos.\n",
        "try:\n",
        "    from google.colab import drive\n",
        "    drive.mount(\"/content/drive\")\n",
        "    path = 'Dirección donde tiene los archivos en el Drive'\n",
        "except: \n",
        "    print('Ignorando conexión drive-colab')"
      ],
      "metadata": {
        "id": "Jqq-s010Iwl1",
        "colab": {
          "base_uri": "https://localhost:8080/"
        },
        "cell_id": "82557a3ea7744f42a77dc7f5d97629ab",
        "outputId": "5eb762c2-b1e2-49d7-f5fc-fe5ab76398f2",
        "source_hash": "c60dc4a7",
        "execution_start": 1637348657022,
        "execution_millis": 27,
        "deepnote_cell_height": 220.1875,
        "deepnote_to_be_reexecuted": false,
        "deepnote_cell_type": "code"
      },
      "outputs": [
        {
          "output_type": "stream",
          "name": "stdout",
          "text": [
            "Ignorando conexión drive-colab\n"
          ]
        }
      ],
      "execution_count": null
    },
    {
      "cell_type": "code",
      "source": [
        "df_comics = pd.read_csv('df_comics.csv')\n",
        "df_comics_no_label = pd.read_csv('comics_no_label.csv')\n",
        "df_comics = df_comics.dropna(subset=['history_text']) # eliminar ejemplos sin historia"
      ],
      "metadata": {
        "id": "bED3w3tDbSCf",
        "cell_id": "c4b057f299d348fa839ac3c555241045",
        "source_hash": "443d6e8",
        "execution_start": 1637348732856,
        "execution_millis": 325,
        "deepnote_cell_height": 117,
        "deepnote_to_be_reexecuted": false,
        "deepnote_cell_type": "code"
      },
      "outputs": [],
      "execution_count": null
    },
    {
      "cell_type": "code",
      "source": [
        "# queda a labor de su equipo hacer el análisis exploratorio\n",
        "df_comics.head()"
      ],
      "metadata": {
        "tags": [],
        "cell_id": "4c6367f4379042cc8515e0e86849acf3",
        "source_hash": "b986316d",
        "execution_start": 1637348731943,
        "execution_millis": 654,
        "deepnote_cell_height": 323.1875,
        "deepnote_output_heights": [
          208.1875
        ],
        "deepnote_to_be_reexecuted": false,
        "deepnote_cell_type": "code",
        "colab": {
          "base_uri": "https://localhost:8080/",
          "height": 612
        },
        "id": "mHy5VlD0F65C",
        "outputId": "712c2122-a9dc-4047-fad3-702c79e9d3f0"
      },
      "outputs": [
        {
          "output_type": "execute_result",
          "data": {
            "text/plain": [
              "   Unnamed: 0          name               real_name               full_name  \\\n",
              "0           0       3-D Man     Delroy Garrett, Jr.     Delroy Garrett, Jr.   \n",
              "1           2        A-Bomb  Richard Milhouse Jones  Richard Milhouse Jones   \n",
              "2           3            Aa                      Aa                     NaN   \n",
              "3           4    Aaron Cash              Aaron Cash              Aaron Cash   \n",
              "4           5  Aayla Secura            Aayla Secura                     NaN   \n",
              "\n",
              "  overall_score                                       history_text  \\\n",
              "0             6  Delroy Garrett, Jr. grew up to become a track ...   \n",
              "1            20   Richard \"Rick\" Jones was orphaned at a young ...   \n",
              "2            12  Aa is one of the more passive members of the P...   \n",
              "3             5  Aaron Cash is the head of security at Arkham A...   \n",
              "4             8  ayla Secura was a Rutian Twi'lek Jedi Knight (...   \n",
              "\n",
              "                                         powers_text  intelligence_score  \\\n",
              "0                                                NaN                  85   \n",
              "1    On rare occasions, and through unusual circu...                  80   \n",
              "2                                                NaN                  80   \n",
              "3                                                NaN                  80   \n",
              "4                                                NaN                  90   \n",
              "\n",
              "   strength_score  speed_score  ...  has_flight  has_accelerated_healing  \\\n",
              "0              30           60  ...         0.0                      0.0   \n",
              "1             100           80  ...         0.0                      1.0   \n",
              "2              50           55  ...         0.0                      0.0   \n",
              "3              10           25  ...         0.0                      0.0   \n",
              "4              40           45  ...         0.0                      1.0   \n",
              "\n",
              "   has_weapons_master has_intelligence has_reflexes has_super_speed  \\\n",
              "0                 0.0              0.0          0.0             1.0   \n",
              "1                 0.0              0.0          1.0             1.0   \n",
              "2                 0.0              0.0          0.0             0.0   \n",
              "3                 1.0              0.0          0.0             0.0   \n",
              "4                 0.0              0.0          0.0             0.0   \n",
              "\n",
              "  has_durability has_stamina has_agility has_super_strength  \n",
              "0            0.0         0.0         0.0                1.0  \n",
              "1            1.0         1.0         1.0                1.0  \n",
              "2            0.0         0.0         0.0                0.0  \n",
              "3            0.0         0.0         0.0                0.0  \n",
              "4            0.0         0.0         1.0                0.0  \n",
              "\n",
              "[5 rows x 82 columns]"
            ],
            "text/html": [
              "\n",
              "  <div id=\"df-8afa07d1-0377-4090-8882-2d4904b85a90\">\n",
              "    <div class=\"colab-df-container\">\n",
              "      <div>\n",
              "<style scoped>\n",
              "    .dataframe tbody tr th:only-of-type {\n",
              "        vertical-align: middle;\n",
              "    }\n",
              "\n",
              "    .dataframe tbody tr th {\n",
              "        vertical-align: top;\n",
              "    }\n",
              "\n",
              "    .dataframe thead th {\n",
              "        text-align: right;\n",
              "    }\n",
              "</style>\n",
              "<table border=\"1\" class=\"dataframe\">\n",
              "  <thead>\n",
              "    <tr style=\"text-align: right;\">\n",
              "      <th></th>\n",
              "      <th>Unnamed: 0</th>\n",
              "      <th>name</th>\n",
              "      <th>real_name</th>\n",
              "      <th>full_name</th>\n",
              "      <th>overall_score</th>\n",
              "      <th>history_text</th>\n",
              "      <th>powers_text</th>\n",
              "      <th>intelligence_score</th>\n",
              "      <th>strength_score</th>\n",
              "      <th>speed_score</th>\n",
              "      <th>...</th>\n",
              "      <th>has_flight</th>\n",
              "      <th>has_accelerated_healing</th>\n",
              "      <th>has_weapons_master</th>\n",
              "      <th>has_intelligence</th>\n",
              "      <th>has_reflexes</th>\n",
              "      <th>has_super_speed</th>\n",
              "      <th>has_durability</th>\n",
              "      <th>has_stamina</th>\n",
              "      <th>has_agility</th>\n",
              "      <th>has_super_strength</th>\n",
              "    </tr>\n",
              "  </thead>\n",
              "  <tbody>\n",
              "    <tr>\n",
              "      <th>0</th>\n",
              "      <td>0</td>\n",
              "      <td>3-D Man</td>\n",
              "      <td>Delroy Garrett, Jr.</td>\n",
              "      <td>Delroy Garrett, Jr.</td>\n",
              "      <td>6</td>\n",
              "      <td>Delroy Garrett, Jr. grew up to become a track ...</td>\n",
              "      <td>NaN</td>\n",
              "      <td>85</td>\n",
              "      <td>30</td>\n",
              "      <td>60</td>\n",
              "      <td>...</td>\n",
              "      <td>0.0</td>\n",
              "      <td>0.0</td>\n",
              "      <td>0.0</td>\n",
              "      <td>0.0</td>\n",
              "      <td>0.0</td>\n",
              "      <td>1.0</td>\n",
              "      <td>0.0</td>\n",
              "      <td>0.0</td>\n",
              "      <td>0.0</td>\n",
              "      <td>1.0</td>\n",
              "    </tr>\n",
              "    <tr>\n",
              "      <th>1</th>\n",
              "      <td>2</td>\n",
              "      <td>A-Bomb</td>\n",
              "      <td>Richard Milhouse Jones</td>\n",
              "      <td>Richard Milhouse Jones</td>\n",
              "      <td>20</td>\n",
              "      <td>Richard \"Rick\" Jones was orphaned at a young ...</td>\n",
              "      <td>On rare occasions, and through unusual circu...</td>\n",
              "      <td>80</td>\n",
              "      <td>100</td>\n",
              "      <td>80</td>\n",
              "      <td>...</td>\n",
              "      <td>0.0</td>\n",
              "      <td>1.0</td>\n",
              "      <td>0.0</td>\n",
              "      <td>0.0</td>\n",
              "      <td>1.0</td>\n",
              "      <td>1.0</td>\n",
              "      <td>1.0</td>\n",
              "      <td>1.0</td>\n",
              "      <td>1.0</td>\n",
              "      <td>1.0</td>\n",
              "    </tr>\n",
              "    <tr>\n",
              "      <th>2</th>\n",
              "      <td>3</td>\n",
              "      <td>Aa</td>\n",
              "      <td>Aa</td>\n",
              "      <td>NaN</td>\n",
              "      <td>12</td>\n",
              "      <td>Aa is one of the more passive members of the P...</td>\n",
              "      <td>NaN</td>\n",
              "      <td>80</td>\n",
              "      <td>50</td>\n",
              "      <td>55</td>\n",
              "      <td>...</td>\n",
              "      <td>0.0</td>\n",
              "      <td>0.0</td>\n",
              "      <td>0.0</td>\n",
              "      <td>0.0</td>\n",
              "      <td>0.0</td>\n",
              "      <td>0.0</td>\n",
              "      <td>0.0</td>\n",
              "      <td>0.0</td>\n",
              "      <td>0.0</td>\n",
              "      <td>0.0</td>\n",
              "    </tr>\n",
              "    <tr>\n",
              "      <th>3</th>\n",
              "      <td>4</td>\n",
              "      <td>Aaron Cash</td>\n",
              "      <td>Aaron Cash</td>\n",
              "      <td>Aaron Cash</td>\n",
              "      <td>5</td>\n",
              "      <td>Aaron Cash is the head of security at Arkham A...</td>\n",
              "      <td>NaN</td>\n",
              "      <td>80</td>\n",
              "      <td>10</td>\n",
              "      <td>25</td>\n",
              "      <td>...</td>\n",
              "      <td>0.0</td>\n",
              "      <td>0.0</td>\n",
              "      <td>1.0</td>\n",
              "      <td>0.0</td>\n",
              "      <td>0.0</td>\n",
              "      <td>0.0</td>\n",
              "      <td>0.0</td>\n",
              "      <td>0.0</td>\n",
              "      <td>0.0</td>\n",
              "      <td>0.0</td>\n",
              "    </tr>\n",
              "    <tr>\n",
              "      <th>4</th>\n",
              "      <td>5</td>\n",
              "      <td>Aayla Secura</td>\n",
              "      <td>Aayla Secura</td>\n",
              "      <td>NaN</td>\n",
              "      <td>8</td>\n",
              "      <td>ayla Secura was a Rutian Twi'lek Jedi Knight (...</td>\n",
              "      <td>NaN</td>\n",
              "      <td>90</td>\n",
              "      <td>40</td>\n",
              "      <td>45</td>\n",
              "      <td>...</td>\n",
              "      <td>0.0</td>\n",
              "      <td>1.0</td>\n",
              "      <td>0.0</td>\n",
              "      <td>0.0</td>\n",
              "      <td>0.0</td>\n",
              "      <td>0.0</td>\n",
              "      <td>0.0</td>\n",
              "      <td>0.0</td>\n",
              "      <td>1.0</td>\n",
              "      <td>0.0</td>\n",
              "    </tr>\n",
              "  </tbody>\n",
              "</table>\n",
              "<p>5 rows × 82 columns</p>\n",
              "</div>\n",
              "      <button class=\"colab-df-convert\" onclick=\"convertToInteractive('df-8afa07d1-0377-4090-8882-2d4904b85a90')\"\n",
              "              title=\"Convert this dataframe to an interactive table.\"\n",
              "              style=\"display:none;\">\n",
              "        \n",
              "  <svg xmlns=\"http://www.w3.org/2000/svg\" height=\"24px\"viewBox=\"0 0 24 24\"\n",
              "       width=\"24px\">\n",
              "    <path d=\"M0 0h24v24H0V0z\" fill=\"none\"/>\n",
              "    <path d=\"M18.56 5.44l.94 2.06.94-2.06 2.06-.94-2.06-.94-.94-2.06-.94 2.06-2.06.94zm-11 1L8.5 8.5l.94-2.06 2.06-.94-2.06-.94L8.5 2.5l-.94 2.06-2.06.94zm10 10l.94 2.06.94-2.06 2.06-.94-2.06-.94-.94-2.06-.94 2.06-2.06.94z\"/><path d=\"M17.41 7.96l-1.37-1.37c-.4-.4-.92-.59-1.43-.59-.52 0-1.04.2-1.43.59L10.3 9.45l-7.72 7.72c-.78.78-.78 2.05 0 2.83L4 21.41c.39.39.9.59 1.41.59.51 0 1.02-.2 1.41-.59l7.78-7.78 2.81-2.81c.8-.78.8-2.07 0-2.86zM5.41 20L4 18.59l7.72-7.72 1.47 1.35L5.41 20z\"/>\n",
              "  </svg>\n",
              "      </button>\n",
              "      \n",
              "  <style>\n",
              "    .colab-df-container {\n",
              "      display:flex;\n",
              "      flex-wrap:wrap;\n",
              "      gap: 12px;\n",
              "    }\n",
              "\n",
              "    .colab-df-convert {\n",
              "      background-color: #E8F0FE;\n",
              "      border: none;\n",
              "      border-radius: 50%;\n",
              "      cursor: pointer;\n",
              "      display: none;\n",
              "      fill: #1967D2;\n",
              "      height: 32px;\n",
              "      padding: 0 0 0 0;\n",
              "      width: 32px;\n",
              "    }\n",
              "\n",
              "    .colab-df-convert:hover {\n",
              "      background-color: #E2EBFA;\n",
              "      box-shadow: 0px 1px 2px rgba(60, 64, 67, 0.3), 0px 1px 3px 1px rgba(60, 64, 67, 0.15);\n",
              "      fill: #174EA6;\n",
              "    }\n",
              "\n",
              "    [theme=dark] .colab-df-convert {\n",
              "      background-color: #3B4455;\n",
              "      fill: #D2E3FC;\n",
              "    }\n",
              "\n",
              "    [theme=dark] .colab-df-convert:hover {\n",
              "      background-color: #434B5C;\n",
              "      box-shadow: 0px 1px 3px 1px rgba(0, 0, 0, 0.15);\n",
              "      filter: drop-shadow(0px 1px 2px rgba(0, 0, 0, 0.3));\n",
              "      fill: #FFFFFF;\n",
              "    }\n",
              "  </style>\n",
              "\n",
              "      <script>\n",
              "        const buttonEl =\n",
              "          document.querySelector('#df-8afa07d1-0377-4090-8882-2d4904b85a90 button.colab-df-convert');\n",
              "        buttonEl.style.display =\n",
              "          google.colab.kernel.accessAllowed ? 'block' : 'none';\n",
              "\n",
              "        async function convertToInteractive(key) {\n",
              "          const element = document.querySelector('#df-8afa07d1-0377-4090-8882-2d4904b85a90');\n",
              "          const dataTable =\n",
              "            await google.colab.kernel.invokeFunction('convertToInteractive',\n",
              "                                                     [key], {});\n",
              "          if (!dataTable) return;\n",
              "\n",
              "          const docLinkHtml = 'Like what you see? Visit the ' +\n",
              "            '<a target=\"_blank\" href=https://colab.research.google.com/notebooks/data_table.ipynb>data table notebook</a>'\n",
              "            + ' to learn more about interactive tables.';\n",
              "          element.innerHTML = '';\n",
              "          dataTable['output_type'] = 'display_data';\n",
              "          await google.colab.output.renderOutput(dataTable, element);\n",
              "          const docLink = document.createElement('div');\n",
              "          docLink.innerHTML = docLinkHtml;\n",
              "          element.appendChild(docLink);\n",
              "        }\n",
              "      </script>\n",
              "    </div>\n",
              "  </div>\n",
              "  "
            ]
          },
          "metadata": {},
          "execution_count": 4
        }
      ],
      "execution_count": null
    },
    {
      "cell_type": "markdown",
      "source": [
        "## 1.1 Obtención de Features y Bag of Words\n",
        "\n",
        "<p align=\"center\">\n",
        "  <img src=\"https://media0.giphy.com/media/eIUpSyzwGp0YhAMTKr/200.gif\" width=\"300\">\n",
        "</p>"
      ],
      "metadata": {
        "id": "i4tFPrFA4_O5",
        "cell_id": "2b5684743aec4d388edaa8f190652e9e",
        "deepnote_cell_height": 410,
        "deepnote_cell_type": "markdown"
      }
    },
    {
      "cell_type": "markdown",
      "source": [
        "Primero que todo, deben obtener un vector de características del atributo `history_text`, utilizando `Bag of Words`. En este atributo se presenta una breve descripción de la historia de cada uno de los personajes de ficción presentes en el dataset. \n",
        "\n",
        "Pero... antes de empezar, ¿Que es `Bag of Words`?...\n",
        "\n",
        "`Bag of Words` es un modelo de conteo utilizado en Procesamiento de Lenguaje Natural (NLP) que tiene como objetivo generar una representación vectorial (vector de características en nuestro cas) para cada documento a través del conteo de las palabras que contienen. \n",
        "\n",
        "La siguiente figura muestra un ejemplo de `Bag of Words` en acción:\n",
        "\n",
        "<p align=\"center\">\n",
        "  <img src=\"https://user.oc-static.com/upload/2020/10/23/16034397439042_surfin%20bird%20bow.png\" width=\"500\">\n",
        "</p>\n",
        "\n",
        "Como pueden ver, el modelo de `Bag of Words` no resulta tan complicado, ¿pero cómo lo aplicamos en python?. \n",
        "\n",
        "Como podrán darse cuenta del ejemplo anterior, para facilitar el conteo será necesario transformar cada uno de los documentos en vectores, donde cada una de las posiciones posee un carácter. Este proceso es conocido como **tokenización** y lo podemos realizar de la siguiente forma:"
      ],
      "metadata": {
        "id": "f_4NF0_V5XZ-",
        "cell_id": "39e5b3d761274681bdafab029d6ede31",
        "deepnote_cell_height": 561.859375,
        "deepnote_cell_type": "markdown"
      }
    },
    {
      "cell_type": "code",
      "source": [
        "nltk.download('punkt')"
      ],
      "metadata": {
        "colab": {
          "base_uri": "https://localhost:8080/"
        },
        "id": "M916TgDFK29i",
        "outputId": "054a3d81-7948-4308-9dc5-1045ab16070c"
      },
      "execution_count": null,
      "outputs": [
        {
          "output_type": "stream",
          "name": "stderr",
          "text": [
            "[nltk_data] Downloading package punkt to /root/nltk_data...\n",
            "[nltk_data]   Unzipping tokenizers/punkt.zip.\n"
          ]
        },
        {
          "output_type": "execute_result",
          "data": {
            "text/plain": [
              "True"
            ]
          },
          "metadata": {},
          "execution_count": 5
        }
      ]
    },
    {
      "cell_type": "code",
      "source": [
        "docs = ['The teacher rocks like a good rock & roll',\n",
        "        'the rock is the best actor in the world']\n",
        "\n",
        "\n",
        "docs_tokenizados = [word_tokenize(doc) for doc in docs]\n",
        "docs_tokenizados"
      ],
      "metadata": {
        "tags": [],
        "cell_id": "4225703f5ca94caeba76b5271167c8ec",
        "source_hash": "57e4888a",
        "execution_start": 1637346921830,
        "execution_millis": 8,
        "deepnote_cell_height": 227.375,
        "deepnote_output_heights": [
          40.375
        ],
        "deepnote_to_be_reexecuted": false,
        "deepnote_cell_type": "code",
        "colab": {
          "base_uri": "https://localhost:8080/"
        },
        "id": "uqqfHuvSF65D",
        "outputId": "75fc16fb-02e7-4ee3-9200-e92d7855ae78"
      },
      "outputs": [
        {
          "output_type": "execute_result",
          "data": {
            "text/plain": [
              "[['The', 'teacher', 'rocks', 'like', 'a', 'good', 'rock', '&', 'roll'],\n",
              " ['the', 'rock', 'is', 'the', 'best', 'actor', 'in', 'the', 'world']]"
            ]
          },
          "metadata": {},
          "execution_count": 6
        }
      ],
      "execution_count": null
    },
    {
      "cell_type": "markdown",
      "source": [
        "Podemos mejorar un poco más el proceso de tokenización agregando \n",
        "\n",
        "- Stemming:  Definimos Stemming como un algoritmo basado en reglas que transforma las palabras a una forma general. Un ejemplo de stemming, es el siguiente:\n",
        "- Eliminación de Stopwords: Eliminación de palabras muy frecuentes que entorpecen la clasificación (por ejemplo, el, la los, la, etc...)\n",
        "\n",
        "<p align=\"center\">\n",
        "  <img src=\"https://devopedia.org/images/article/218/8583.1569386710.png\" width=\"300\">\n",
        "</p>\n"
      ],
      "metadata": {
        "tags": [],
        "cell_id": "38363e52900d4138aa13cfc88bb699dc",
        "deepnote_cell_height": 424.125,
        "deepnote_cell_type": "markdown",
        "id": "Xv3psqXRF65E"
      }
    },
    {
      "cell_type": "code",
      "source": [
        "# Definimos algunas stopword que queremos que sean eliminadas\n",
        "import nltk\n",
        "nltk.download('stopwords')\n",
        "\n",
        "from nltk.corpus import stopwords\n",
        "\n",
        "stop_words = stopwords.words('english')\n",
        "\n",
        "# Definimos un tokenizador con Stemming\n",
        "class StemmerTokenizer:\n",
        "    def __init__(self):\n",
        "        self.ps = PorterStemmer()\n",
        "    def __call__(self, doc):\n",
        "        doc_tok = word_tokenize(doc)\n",
        "        doc_tok = [t for t in doc_tok if t not in stop_words]\n",
        "        return [self.ps.stem(t) for t in doc_tok]\n",
        "\n",
        "# Inicializamos tokenizador\n",
        "tokenizador = StemmerTokenizer()\n",
        "\n",
        "# Creamos algunos documentos\n",
        "docs = ['The teacher rocks like a good rock & roll',\n",
        "        'the rock is the best actor in the world',\n",
        "        'New York is a beautiful city']\n",
        "\n",
        "# Obtenemos el token del primer documento\n",
        "[tokenizador(doc) for doc in docs]"
      ],
      "metadata": {
        "tags": [],
        "cell_id": "281adedd8d3e4785931934eadd57abfb",
        "source_hash": "d7f59237",
        "execution_start": 1637346924545,
        "execution_millis": 36,
        "deepnote_cell_height": 690.9375,
        "deepnote_output_heights": [
          null,
          59.5625
        ],
        "deepnote_to_be_reexecuted": false,
        "deepnote_cell_type": "code",
        "colab": {
          "base_uri": "https://localhost:8080/"
        },
        "id": "VvQMwG8CF65F",
        "outputId": "432af2ee-ce3b-42cb-aea9-42adc5a0456b"
      },
      "outputs": [
        {
          "output_type": "stream",
          "name": "stderr",
          "text": [
            "[nltk_data] Downloading package stopwords to /root/nltk_data...\n",
            "[nltk_data]   Package stopwords is already up-to-date!\n"
          ]
        },
        {
          "output_type": "execute_result",
          "data": {
            "text/plain": [
              "[['the', 'teacher', 'rock', 'like', 'good', 'rock', '&', 'roll'],\n",
              " ['rock', 'best', 'actor', 'world'],\n",
              " ['new', 'york', 'beauti', 'citi']]"
            ]
          },
          "metadata": {},
          "execution_count": 7
        }
      ],
      "execution_count": null
    },
    {
      "cell_type": "code",
      "source": [
        "# Comparación con el caso anterior\n",
        "docs_tokenizados = [word_tokenize(doc) for doc in docs]\n",
        "docs_tokenizados"
      ],
      "metadata": {
        "tags": [],
        "cell_id": "3d0f1a2529964cedb72ccc62a8e818a5",
        "source_hash": "2503a9b4",
        "execution_start": 1637346927213,
        "execution_millis": 13,
        "deepnote_cell_height": 192.5625,
        "deepnote_output_heights": [
          59.5625
        ],
        "deepnote_to_be_reexecuted": false,
        "deepnote_cell_type": "code",
        "colab": {
          "base_uri": "https://localhost:8080/"
        },
        "id": "wauqJ_zLF65G",
        "outputId": "6ec97d8f-4d57-44fe-ee71-b53e41aec5ef"
      },
      "outputs": [
        {
          "output_type": "execute_result",
          "data": {
            "text/plain": [
              "[['The', 'teacher', 'rocks', 'like', 'a', 'good', 'rock', '&', 'roll'],\n",
              " ['the', 'rock', 'is', 'the', 'best', 'actor', 'in', 'the', 'world'],\n",
              " ['New', 'York', 'is', 'a', 'beautiful', 'city']]"
            ]
          },
          "metadata": {},
          "execution_count": 8
        }
      ],
      "execution_count": null
    },
    {
      "cell_type": "markdown",
      "source": [
        "#### Al Estilo Scikit\n",
        "\n",
        "Scikit implementa `bag of words` a través de la clase `CountVectorizer()` la cual contiene muchas opciones para mejorar la tokenización."
      ],
      "metadata": {
        "tags": [],
        "cell_id": "937e18f6c6a747f7893b43a25d6aa65c",
        "deepnote_cell_height": 110.78125,
        "deepnote_cell_type": "markdown",
        "id": "RMbepOmFF65H"
      }
    },
    {
      "cell_type": "code",
      "source": [
        "bow = CountVectorizer(tokenizer= StemmerTokenizer())\n",
        "df = bow.fit_transform(docs)\n",
        "\n",
        "pd.DataFrame(df.toarray(), columns=bow.get_feature_names_out())"
      ],
      "metadata": {
        "tags": [],
        "cell_id": "c898d0dca5bd47cd80f4a8566cf5cc13",
        "source_hash": "2bc7124d",
        "execution_start": 1637346927803,
        "execution_millis": 152,
        "deepnote_cell_height": 270,
        "deepnote_output_heights": [
          119
        ],
        "deepnote_to_be_reexecuted": false,
        "deepnote_cell_type": "code",
        "colab": {
          "base_uri": "https://localhost:8080/",
          "height": 143
        },
        "id": "BWs8DLs-F65H",
        "outputId": "f430c189-4cbb-4cd6-c5dc-06d6a192dc31"
      },
      "outputs": [
        {
          "output_type": "execute_result",
          "data": {
            "text/plain": [
              "   &  actor  beauti  best  citi  good  like  new  rock  roll  teacher  world  \\\n",
              "0  1      0       0     0     0     1     1    0     2     1        1      0   \n",
              "1  0      1       0     1     0     0     0    0     1     0        0      1   \n",
              "2  0      0       1     0     1     0     0    1     0     0        0      0   \n",
              "\n",
              "   york  \n",
              "0     0  \n",
              "1     0  \n",
              "2     1  "
            ],
            "text/html": [
              "\n",
              "  <div id=\"df-23260f5d-df88-4c50-8f5a-edc208410b07\">\n",
              "    <div class=\"colab-df-container\">\n",
              "      <div>\n",
              "<style scoped>\n",
              "    .dataframe tbody tr th:only-of-type {\n",
              "        vertical-align: middle;\n",
              "    }\n",
              "\n",
              "    .dataframe tbody tr th {\n",
              "        vertical-align: top;\n",
              "    }\n",
              "\n",
              "    .dataframe thead th {\n",
              "        text-align: right;\n",
              "    }\n",
              "</style>\n",
              "<table border=\"1\" class=\"dataframe\">\n",
              "  <thead>\n",
              "    <tr style=\"text-align: right;\">\n",
              "      <th></th>\n",
              "      <th>&amp;</th>\n",
              "      <th>actor</th>\n",
              "      <th>beauti</th>\n",
              "      <th>best</th>\n",
              "      <th>citi</th>\n",
              "      <th>good</th>\n",
              "      <th>like</th>\n",
              "      <th>new</th>\n",
              "      <th>rock</th>\n",
              "      <th>roll</th>\n",
              "      <th>teacher</th>\n",
              "      <th>world</th>\n",
              "      <th>york</th>\n",
              "    </tr>\n",
              "  </thead>\n",
              "  <tbody>\n",
              "    <tr>\n",
              "      <th>0</th>\n",
              "      <td>1</td>\n",
              "      <td>0</td>\n",
              "      <td>0</td>\n",
              "      <td>0</td>\n",
              "      <td>0</td>\n",
              "      <td>1</td>\n",
              "      <td>1</td>\n",
              "      <td>0</td>\n",
              "      <td>2</td>\n",
              "      <td>1</td>\n",
              "      <td>1</td>\n",
              "      <td>0</td>\n",
              "      <td>0</td>\n",
              "    </tr>\n",
              "    <tr>\n",
              "      <th>1</th>\n",
              "      <td>0</td>\n",
              "      <td>1</td>\n",
              "      <td>0</td>\n",
              "      <td>1</td>\n",
              "      <td>0</td>\n",
              "      <td>0</td>\n",
              "      <td>0</td>\n",
              "      <td>0</td>\n",
              "      <td>1</td>\n",
              "      <td>0</td>\n",
              "      <td>0</td>\n",
              "      <td>1</td>\n",
              "      <td>0</td>\n",
              "    </tr>\n",
              "    <tr>\n",
              "      <th>2</th>\n",
              "      <td>0</td>\n",
              "      <td>0</td>\n",
              "      <td>1</td>\n",
              "      <td>0</td>\n",
              "      <td>1</td>\n",
              "      <td>0</td>\n",
              "      <td>0</td>\n",
              "      <td>1</td>\n",
              "      <td>0</td>\n",
              "      <td>0</td>\n",
              "      <td>0</td>\n",
              "      <td>0</td>\n",
              "      <td>1</td>\n",
              "    </tr>\n",
              "  </tbody>\n",
              "</table>\n",
              "</div>\n",
              "      <button class=\"colab-df-convert\" onclick=\"convertToInteractive('df-23260f5d-df88-4c50-8f5a-edc208410b07')\"\n",
              "              title=\"Convert this dataframe to an interactive table.\"\n",
              "              style=\"display:none;\">\n",
              "        \n",
              "  <svg xmlns=\"http://www.w3.org/2000/svg\" height=\"24px\"viewBox=\"0 0 24 24\"\n",
              "       width=\"24px\">\n",
              "    <path d=\"M0 0h24v24H0V0z\" fill=\"none\"/>\n",
              "    <path d=\"M18.56 5.44l.94 2.06.94-2.06 2.06-.94-2.06-.94-.94-2.06-.94 2.06-2.06.94zm-11 1L8.5 8.5l.94-2.06 2.06-.94-2.06-.94L8.5 2.5l-.94 2.06-2.06.94zm10 10l.94 2.06.94-2.06 2.06-.94-2.06-.94-.94-2.06-.94 2.06-2.06.94z\"/><path d=\"M17.41 7.96l-1.37-1.37c-.4-.4-.92-.59-1.43-.59-.52 0-1.04.2-1.43.59L10.3 9.45l-7.72 7.72c-.78.78-.78 2.05 0 2.83L4 21.41c.39.39.9.59 1.41.59.51 0 1.02-.2 1.41-.59l7.78-7.78 2.81-2.81c.8-.78.8-2.07 0-2.86zM5.41 20L4 18.59l7.72-7.72 1.47 1.35L5.41 20z\"/>\n",
              "  </svg>\n",
              "      </button>\n",
              "      \n",
              "  <style>\n",
              "    .colab-df-container {\n",
              "      display:flex;\n",
              "      flex-wrap:wrap;\n",
              "      gap: 12px;\n",
              "    }\n",
              "\n",
              "    .colab-df-convert {\n",
              "      background-color: #E8F0FE;\n",
              "      border: none;\n",
              "      border-radius: 50%;\n",
              "      cursor: pointer;\n",
              "      display: none;\n",
              "      fill: #1967D2;\n",
              "      height: 32px;\n",
              "      padding: 0 0 0 0;\n",
              "      width: 32px;\n",
              "    }\n",
              "\n",
              "    .colab-df-convert:hover {\n",
              "      background-color: #E2EBFA;\n",
              "      box-shadow: 0px 1px 2px rgba(60, 64, 67, 0.3), 0px 1px 3px 1px rgba(60, 64, 67, 0.15);\n",
              "      fill: #174EA6;\n",
              "    }\n",
              "\n",
              "    [theme=dark] .colab-df-convert {\n",
              "      background-color: #3B4455;\n",
              "      fill: #D2E3FC;\n",
              "    }\n",
              "\n",
              "    [theme=dark] .colab-df-convert:hover {\n",
              "      background-color: #434B5C;\n",
              "      box-shadow: 0px 1px 3px 1px rgba(0, 0, 0, 0.15);\n",
              "      filter: drop-shadow(0px 1px 2px rgba(0, 0, 0, 0.3));\n",
              "      fill: #FFFFFF;\n",
              "    }\n",
              "  </style>\n",
              "\n",
              "      <script>\n",
              "        const buttonEl =\n",
              "          document.querySelector('#df-23260f5d-df88-4c50-8f5a-edc208410b07 button.colab-df-convert');\n",
              "        buttonEl.style.display =\n",
              "          google.colab.kernel.accessAllowed ? 'block' : 'none';\n",
              "\n",
              "        async function convertToInteractive(key) {\n",
              "          const element = document.querySelector('#df-23260f5d-df88-4c50-8f5a-edc208410b07');\n",
              "          const dataTable =\n",
              "            await google.colab.kernel.invokeFunction('convertToInteractive',\n",
              "                                                     [key], {});\n",
              "          if (!dataTable) return;\n",
              "\n",
              "          const docLinkHtml = 'Like what you see? Visit the ' +\n",
              "            '<a target=\"_blank\" href=https://colab.research.google.com/notebooks/data_table.ipynb>data table notebook</a>'\n",
              "            + ' to learn more about interactive tables.';\n",
              "          element.innerHTML = '';\n",
              "          dataTable['output_type'] = 'display_data';\n",
              "          await google.colab.output.renderOutput(dataTable, element);\n",
              "          const docLink = document.createElement('div');\n",
              "          docLink.innerHTML = docLinkHtml;\n",
              "          element.appendChild(docLink);\n",
              "        }\n",
              "      </script>\n",
              "    </div>\n",
              "  </div>\n",
              "  "
            ]
          },
          "metadata": {},
          "execution_count": 9
        }
      ],
      "execution_count": null
    },
    {
      "cell_type": "markdown",
      "source": [
        "Una de las cosas más interesantes que provee son el use de n-gramas, los cuales, en palabras simples, son conjuntos de n-palabras que se concatenan entre si y que se consideran como tokens separados. \n",
        "\n",
        "Pensemos en `Nueva York`. Cuando se tokeniza Nueva York, se generan dos tokens independientes que a simple vista no tienen relación: `Nueva` `York`.\n",
        "Al usar n-gramas (en un rango min=1,max=2) , generamos tanto `Nueva` y `York` como también `Nueva York` como un token independiente."
      ],
      "metadata": {
        "tags": [],
        "cell_id": "d9184cbee66a498bbe0050076342f306",
        "deepnote_cell_height": 155.953125,
        "deepnote_cell_type": "markdown",
        "id": "AWH4lCubF65I"
      }
    },
    {
      "cell_type": "code",
      "source": [
        "bow = CountVectorizer(tokenizer= StemmerTokenizer(), ngram_range=(1,2))\n",
        "df = bow.fit_transform(docs)\n",
        "\n",
        "pd.DataFrame(df.toarray(), columns=bow.get_feature_names_out())"
      ],
      "metadata": {
        "tags": [],
        "cell_id": "8aa91d98ce4d4fd1b336e730702a9832",
        "source_hash": "6af25c7e",
        "execution_start": 1637346930092,
        "execution_millis": 241,
        "deepnote_cell_height": 301.1875,
        "deepnote_output_heights": [
          150.1875
        ],
        "deepnote_to_be_reexecuted": false,
        "deepnote_cell_type": "code",
        "colab": {
          "base_uri": "https://localhost:8080/",
          "height": 234
        },
        "id": "LiOWLqn1F65I",
        "outputId": "14a3460f-367f-4c92-cffe-f3d8b2cdaea7"
      },
      "outputs": [
        {
          "output_type": "execute_result",
          "data": {
            "text/plain": [
              "   &  & roll  actor  actor world  beauti  beauti citi  best  best actor  citi  \\\n",
              "0  1       1      0            0       0            0     0           0     0   \n",
              "1  0       0      1            1       0            0     1           1     0   \n",
              "2  0       0      0            0       1            1     0           0     1   \n",
              "\n",
              "   good  ...  rock  rock &  rock best  rock like  roll  teacher  teacher rock  \\\n",
              "0     1  ...     2       1          0          1     1        1             1   \n",
              "1     0  ...     1       0          1          0     0        0             0   \n",
              "2     0  ...     0       0          0          0     0        0             0   \n",
              "\n",
              "   world  york  york beauti  \n",
              "0      0     0            0  \n",
              "1      1     0            0  \n",
              "2      0     1            1  \n",
              "\n",
              "[3 rows x 25 columns]"
            ],
            "text/html": [
              "\n",
              "  <div id=\"df-fd81ab28-9a50-4048-b74c-76626404d8df\">\n",
              "    <div class=\"colab-df-container\">\n",
              "      <div>\n",
              "<style scoped>\n",
              "    .dataframe tbody tr th:only-of-type {\n",
              "        vertical-align: middle;\n",
              "    }\n",
              "\n",
              "    .dataframe tbody tr th {\n",
              "        vertical-align: top;\n",
              "    }\n",
              "\n",
              "    .dataframe thead th {\n",
              "        text-align: right;\n",
              "    }\n",
              "</style>\n",
              "<table border=\"1\" class=\"dataframe\">\n",
              "  <thead>\n",
              "    <tr style=\"text-align: right;\">\n",
              "      <th></th>\n",
              "      <th>&amp;</th>\n",
              "      <th>&amp; roll</th>\n",
              "      <th>actor</th>\n",
              "      <th>actor world</th>\n",
              "      <th>beauti</th>\n",
              "      <th>beauti citi</th>\n",
              "      <th>best</th>\n",
              "      <th>best actor</th>\n",
              "      <th>citi</th>\n",
              "      <th>good</th>\n",
              "      <th>...</th>\n",
              "      <th>rock</th>\n",
              "      <th>rock &amp;</th>\n",
              "      <th>rock best</th>\n",
              "      <th>rock like</th>\n",
              "      <th>roll</th>\n",
              "      <th>teacher</th>\n",
              "      <th>teacher rock</th>\n",
              "      <th>world</th>\n",
              "      <th>york</th>\n",
              "      <th>york beauti</th>\n",
              "    </tr>\n",
              "  </thead>\n",
              "  <tbody>\n",
              "    <tr>\n",
              "      <th>0</th>\n",
              "      <td>1</td>\n",
              "      <td>1</td>\n",
              "      <td>0</td>\n",
              "      <td>0</td>\n",
              "      <td>0</td>\n",
              "      <td>0</td>\n",
              "      <td>0</td>\n",
              "      <td>0</td>\n",
              "      <td>0</td>\n",
              "      <td>1</td>\n",
              "      <td>...</td>\n",
              "      <td>2</td>\n",
              "      <td>1</td>\n",
              "      <td>0</td>\n",
              "      <td>1</td>\n",
              "      <td>1</td>\n",
              "      <td>1</td>\n",
              "      <td>1</td>\n",
              "      <td>0</td>\n",
              "      <td>0</td>\n",
              "      <td>0</td>\n",
              "    </tr>\n",
              "    <tr>\n",
              "      <th>1</th>\n",
              "      <td>0</td>\n",
              "      <td>0</td>\n",
              "      <td>1</td>\n",
              "      <td>1</td>\n",
              "      <td>0</td>\n",
              "      <td>0</td>\n",
              "      <td>1</td>\n",
              "      <td>1</td>\n",
              "      <td>0</td>\n",
              "      <td>0</td>\n",
              "      <td>...</td>\n",
              "      <td>1</td>\n",
              "      <td>0</td>\n",
              "      <td>1</td>\n",
              "      <td>0</td>\n",
              "      <td>0</td>\n",
              "      <td>0</td>\n",
              "      <td>0</td>\n",
              "      <td>1</td>\n",
              "      <td>0</td>\n",
              "      <td>0</td>\n",
              "    </tr>\n",
              "    <tr>\n",
              "      <th>2</th>\n",
              "      <td>0</td>\n",
              "      <td>0</td>\n",
              "      <td>0</td>\n",
              "      <td>0</td>\n",
              "      <td>1</td>\n",
              "      <td>1</td>\n",
              "      <td>0</td>\n",
              "      <td>0</td>\n",
              "      <td>1</td>\n",
              "      <td>0</td>\n",
              "      <td>...</td>\n",
              "      <td>0</td>\n",
              "      <td>0</td>\n",
              "      <td>0</td>\n",
              "      <td>0</td>\n",
              "      <td>0</td>\n",
              "      <td>0</td>\n",
              "      <td>0</td>\n",
              "      <td>0</td>\n",
              "      <td>1</td>\n",
              "      <td>1</td>\n",
              "    </tr>\n",
              "  </tbody>\n",
              "</table>\n",
              "<p>3 rows × 25 columns</p>\n",
              "</div>\n",
              "      <button class=\"colab-df-convert\" onclick=\"convertToInteractive('df-fd81ab28-9a50-4048-b74c-76626404d8df')\"\n",
              "              title=\"Convert this dataframe to an interactive table.\"\n",
              "              style=\"display:none;\">\n",
              "        \n",
              "  <svg xmlns=\"http://www.w3.org/2000/svg\" height=\"24px\"viewBox=\"0 0 24 24\"\n",
              "       width=\"24px\">\n",
              "    <path d=\"M0 0h24v24H0V0z\" fill=\"none\"/>\n",
              "    <path d=\"M18.56 5.44l.94 2.06.94-2.06 2.06-.94-2.06-.94-.94-2.06-.94 2.06-2.06.94zm-11 1L8.5 8.5l.94-2.06 2.06-.94-2.06-.94L8.5 2.5l-.94 2.06-2.06.94zm10 10l.94 2.06.94-2.06 2.06-.94-2.06-.94-.94-2.06-.94 2.06-2.06.94z\"/><path d=\"M17.41 7.96l-1.37-1.37c-.4-.4-.92-.59-1.43-.59-.52 0-1.04.2-1.43.59L10.3 9.45l-7.72 7.72c-.78.78-.78 2.05 0 2.83L4 21.41c.39.39.9.59 1.41.59.51 0 1.02-.2 1.41-.59l7.78-7.78 2.81-2.81c.8-.78.8-2.07 0-2.86zM5.41 20L4 18.59l7.72-7.72 1.47 1.35L5.41 20z\"/>\n",
              "  </svg>\n",
              "      </button>\n",
              "      \n",
              "  <style>\n",
              "    .colab-df-container {\n",
              "      display:flex;\n",
              "      flex-wrap:wrap;\n",
              "      gap: 12px;\n",
              "    }\n",
              "\n",
              "    .colab-df-convert {\n",
              "      background-color: #E8F0FE;\n",
              "      border: none;\n",
              "      border-radius: 50%;\n",
              "      cursor: pointer;\n",
              "      display: none;\n",
              "      fill: #1967D2;\n",
              "      height: 32px;\n",
              "      padding: 0 0 0 0;\n",
              "      width: 32px;\n",
              "    }\n",
              "\n",
              "    .colab-df-convert:hover {\n",
              "      background-color: #E2EBFA;\n",
              "      box-shadow: 0px 1px 2px rgba(60, 64, 67, 0.3), 0px 1px 3px 1px rgba(60, 64, 67, 0.15);\n",
              "      fill: #174EA6;\n",
              "    }\n",
              "\n",
              "    [theme=dark] .colab-df-convert {\n",
              "      background-color: #3B4455;\n",
              "      fill: #D2E3FC;\n",
              "    }\n",
              "\n",
              "    [theme=dark] .colab-df-convert:hover {\n",
              "      background-color: #434B5C;\n",
              "      box-shadow: 0px 1px 3px 1px rgba(0, 0, 0, 0.15);\n",
              "      filter: drop-shadow(0px 1px 2px rgba(0, 0, 0, 0.3));\n",
              "      fill: #FFFFFF;\n",
              "    }\n",
              "  </style>\n",
              "\n",
              "      <script>\n",
              "        const buttonEl =\n",
              "          document.querySelector('#df-fd81ab28-9a50-4048-b74c-76626404d8df button.colab-df-convert');\n",
              "        buttonEl.style.display =\n",
              "          google.colab.kernel.accessAllowed ? 'block' : 'none';\n",
              "\n",
              "        async function convertToInteractive(key) {\n",
              "          const element = document.querySelector('#df-fd81ab28-9a50-4048-b74c-76626404d8df');\n",
              "          const dataTable =\n",
              "            await google.colab.kernel.invokeFunction('convertToInteractive',\n",
              "                                                     [key], {});\n",
              "          if (!dataTable) return;\n",
              "\n",
              "          const docLinkHtml = 'Like what you see? Visit the ' +\n",
              "            '<a target=\"_blank\" href=https://colab.research.google.com/notebooks/data_table.ipynb>data table notebook</a>'\n",
              "            + ' to learn more about interactive tables.';\n",
              "          element.innerHTML = '';\n",
              "          dataTable['output_type'] = 'display_data';\n",
              "          await google.colab.output.renderOutput(dataTable, element);\n",
              "          const docLink = document.createElement('div');\n",
              "          docLink.innerHTML = docLinkHtml;\n",
              "          element.appendChild(docLink);\n",
              "        }\n",
              "      </script>\n",
              "    </div>\n",
              "  </div>\n",
              "  "
            ]
          },
          "metadata": {},
          "execution_count": 10
        }
      ],
      "execution_count": null
    },
    {
      "cell_type": "markdown",
      "source": [
        "De los resultados, podemos ver que generamos vectores de conteo para cada una de las palabras que conforman el corpus.  Un punto extra que se agrega en esta obtención de frecuencias son los bigramas, que básicamente son el conjunto de palabras de tamaño de aparecen juntas en el texto."
      ],
      "metadata": {
        "tags": [],
        "cell_id": "81f6a40097954939a7854adbbe28fdc6",
        "deepnote_cell_height": 97.171875,
        "deepnote_cell_type": "markdown",
        "id": "QMOrAYmdF65J"
      }
    },
    {
      "cell_type": "markdown",
      "source": [
        "## Codificando los Super{heroes, villanos}  [0.5 Puntos]\n",
        "\n",
        "<p align=\"center\">\n",
        "  <img src=\"https://c.tenor.com/LkQzw7k5DV4AAAAd/anime-hacking.gif\" width=\"300\">\n",
        "</p>\n",
        "\n",
        "Conociendo ahora que es el proceso de `bag of words`, aplique este modelo de obtención de caracteristicas de la siguiente forma en un pipeline:\n",
        "\n",
        "- Utilice el tokenizador entregado.\n",
        "- Obtenga caracteristicas de los unigramas y bigramas del texto (tal como el ejemplo).\n",
        "\n",
        "```python\n",
        "bog = CountVectorizer(tokenizer= StemmerTokenizer(),`\n",
        "                      ngram_range=(1,2) # Este punto es opcional y es para generar bigramas\n",
        "                      )\n",
        "```"
      ],
      "metadata": {
        "tags": [],
        "cell_id": "07780e17fbf349afaba37a0aef11e2f1",
        "deepnote_cell_height": 547,
        "deepnote_cell_type": "markdown",
        "id": "eK2tA87TF65K"
      }
    },
    {
      "cell_type": "markdown",
      "source": [
        "Finalmente, aplique `MinMaxScaler()` sobre `atributos_de_interes` y concatene el valor obtenido con el matriz de caracteristicas obtenidas con bag of words.\n",
        "\n",
        "```python\n",
        "atributos_de_interes = ['intelligence_score', 'strength_score', 'speed_score', 'durability_score', 'power_score', 'combat_score']\n",
        "```\n",
        "\n",
        "No es necesario que obtenga un dataframe en concreto con las características solicitadas. Se le recomienda generar un `ColumnTransformer()` para aplicar las transformaciones solicitadas en un pipeline.\n",
        "\n",
        "**To-Do:**\n",
        "- [ ] Obtener a traves de Bag of Words (`CountVectorizer`) caracteristicas del resumen de historia de cada personaje.\n",
        "- [ ] Aplicar `MinMaxScaler` sobre los atributos de interes."
      ],
      "metadata": {
        "tags": [],
        "cell_id": "58abb21ee53c424a96ca09d3c3f91d51",
        "deepnote_cell_height": 332.90625,
        "deepnote_cell_type": "markdown",
        "id": "y2XgX31rF65K"
      }
    },
    {
      "cell_type": "markdown",
      "source": [
        "**Respuesta:**"
      ],
      "metadata": {
        "tags": [],
        "cell_id": "a33d10178fa84f7f8834eeaddf78f4c4",
        "deepnote_cell_height": 52.390625,
        "deepnote_cell_type": "markdown",
        "id": "92G4IrwOF65K"
      }
    },
    {
      "cell_type": "code",
      "source": [
        "#### Código aquí ####\n",
        "from sklearn.compose import ColumnTransformer\n",
        "\n",
        "\n",
        "atributos_de_interes = ['intelligence_score', 'strength_score', 'speed_score', 'durability_score', 'power_score', 'combat_score']\n",
        "\n",
        "bow = CountVectorizer(tokenizer= StemmerTokenizer(),\n",
        "                      ngram_range=(1,2) # Este punto es opcional y es para generar bigramas\n",
        "                      )\n",
        "\n",
        "\n",
        "ct = ColumnTransformer(\n",
        "    transformers=[   \n",
        "        ('CountVec', bow, 'history_text'),\n",
        "        ('MinMaxScaler', MinMaxScaler(), atributos_de_interes)\n",
        "        ])\n",
        "\n",
        "\n"
      ],
      "metadata": {
        "id": "ay080DunHcOS",
        "cell_id": "20d7a7fe8e024e408b2016a1e4d6deef",
        "deepnote_cell_height": 66,
        "deepnote_cell_type": "code"
      },
      "outputs": [],
      "execution_count": null
    },
    {
      "cell_type": "code",
      "source": [
        "bow = CountVectorizer(tokenizer= StemmerTokenizer(), ngram_range=(1,2))\n",
        "df = bow.fit_transform(df_comics['history_text'])"
      ],
      "metadata": {
        "id": "1thPz5U2biL6"
      },
      "execution_count": null,
      "outputs": []
    },
    {
      "cell_type": "code",
      "source": [
        "ct.fit(df_comics)"
      ],
      "metadata": {
        "colab": {
          "base_uri": "https://localhost:8080/"
        },
        "id": "cjaoUQHrbpGn",
        "outputId": "bbe9706c-760a-44a7-f4c0-5744244f3344"
      },
      "execution_count": null,
      "outputs": [
        {
          "output_type": "execute_result",
          "data": {
            "text/plain": [
              "ColumnTransformer(transformers=[('CountVec',\n",
              "                                 CountVectorizer(ngram_range=(1, 2),\n",
              "                                                 tokenizer=<__main__.StemmerTokenizer object at 0x7f1f6d752490>),\n",
              "                                 'history_text'),\n",
              "                                ('MinMaxScaler', MinMaxScaler(),\n",
              "                                 ['intelligence_score', 'strength_score',\n",
              "                                  'speed_score', 'durability_score',\n",
              "                                  'power_score', 'combat_score'])])"
            ]
          },
          "metadata": {},
          "execution_count": 13
        }
      ]
    },
    {
      "cell_type": "markdown",
      "source": [
        "## 1.2 Diseño de Baseline y  Primer Entrenamiento  [1 Puntos]\n",
        "\n",
        "\n",
        "<p align=\"center\">\n",
        "  <img src=\"https://pa1.narvii.com/6374/9eaec1b7bf9157334151452a669516f9a78b954c_hq.gif\" width=\"300\">\n",
        "</p>\n"
      ],
      "metadata": {
        "id": "stHncQ-A-j4I",
        "cell_id": "9df292283e4449b2a4b5d60dcf2987c0",
        "owner_user_id": "d50c3174-babb-4861-9c71-7e3af66458b8",
        "deepnote_cell_height": 317.5,
        "deepnote_cell_type": "markdown"
      }
    },
    {
      "cell_type": "markdown",
      "source": [
        "\n",
        "Genere un Pipeline con las caracteristicas solicitadas en la sección 1.1, un selector de mejores features `SelectPercentile` con métrica `f_classif` y percentile=90 y un clasificador `MultinomialNB()` por defecto.\n",
        "\n",
        "Luego, separe el conjunto de datos en un conjunto de entrenamiento y prueba, donde las etiquetas estará dado por el atributo `alignment`. \n",
        "\n",
        "Entrene el modelo y reporte el desempeño con un `classification_report`. ¿ Nos recomendaría predecir la alineación de BatCow con este clasificador?.\n",
        "\n",
        "Finalmente, compare el modelo entrenado con un modelo Dummy estratificado y responda: ¿El clasificador entrenado es mejor que el dummy que entrega respuestas al azar?\n",
        "\n",
        "**To-do:**\n",
        "- [ ] Realizar un pipeline con las caracteristicas solicitadas en 1.1, ejecutar holdout y aplicar un clasificador `MultinomialNB()`.\n",
        "- [ ] Entrenar el pipeline, calcular el `classification_report` asociado y comentar los resultados.\n",
        "- [ ] Entrenar un `DummyClassifier` con estrategia `statified`, calcular el `classification_report` asociado y comentar que implican los scores obtenidos en comparación con los resultados del baseline."
      ],
      "metadata": {
        "id": "NeMiptpQ_EWb",
        "cell_id": "0de6d1a9fc4d400f972e7d0511ce2cf3",
        "deepnote_cell_height": 455.859375,
        "deepnote_cell_type": "markdown"
      }
    },
    {
      "cell_type": "markdown",
      "source": [
        "**Respuesta:**"
      ],
      "metadata": {
        "tags": [],
        "cell_id": "81b793138ec14f3d92713dab4e6bebb9",
        "deepnote_cell_height": 52.390625,
        "deepnote_cell_type": "markdown",
        "id": "WxMTEPMqF65M"
      }
    },
    {
      "cell_type": "code",
      "source": [
        "#### Código aquí ####\n",
        "\n",
        "baseline_pipe = Pipeline(\n",
        "    [\n",
        "    (\"preprocesamiento\", ct),\n",
        "    (\"Feature_Selector\", SelectPercentile(f_classif, percentile=90)),\n",
        "    (\"clf\", MultinomialNB())\n",
        "    ]\n",
        ")\n",
        "\n",
        "#df_comics['alignment'].replace({'Good': 1, 'Bad': 0, 'Neutral': 2}, inplace= True)\n",
        "\n",
        "X_train, X_test, y_train, y_test = train_test_split(df_comics.drop(columns=['alignment', 'Unnamed: 0']),\n",
        "                                                    df_comics['alignment'],\n",
        "                                                    test_size=0.33,\n",
        "                                                    shuffle = True,\n",
        "                                                    stratify = df_comics['alignment'],\n",
        "                                                    random_state=42)\n",
        "\n"
      ],
      "metadata": {
        "id": "_hHpPDooPafy",
        "cell_id": "e68a1a925b9d429d93f7b3e888eb9c06",
        "deepnote_cell_height": 66,
        "deepnote_cell_type": "code"
      },
      "outputs": [],
      "execution_count": null
    },
    {
      "cell_type": "code",
      "source": [
        "y_train"
      ],
      "metadata": {
        "colab": {
          "base_uri": "https://localhost:8080/"
        },
        "id": "9paNHOQHU9Pl",
        "outputId": "388f4b1c-501e-4b39-e81f-ce37e7241a3c"
      },
      "execution_count": null,
      "outputs": [
        {
          "output_type": "execute_result",
          "data": {
            "text/plain": [
              "424        Good\n",
              "972         Bad\n",
              "991        Good\n",
              "47          Bad\n",
              "1062    Neutral\n",
              "         ...   \n",
              "267         Bad\n",
              "846        Good\n",
              "419         Bad\n",
              "1241       Good\n",
              "477         Bad\n",
              "Name: alignment, Length: 860, dtype: object"
            ]
          },
          "metadata": {},
          "execution_count": 15
        }
      ]
    },
    {
      "cell_type": "code",
      "source": [
        "baseline_pipe = baseline_pipe.fit(X_train, y_train)\n",
        "y_pred = baseline_pipe.predict(X_test)\n",
        "\n",
        "from sklearn.metrics import confusion_matrix\n",
        "print(\"Matriz de confusión\\n\\n\", confusion_matrix(y_test, y_pred), \"\\n\")\n",
        "print(classification_report(y_test, y_pred))"
      ],
      "metadata": {
        "colab": {
          "base_uri": "https://localhost:8080/"
        },
        "id": "CR9RgcwDU7qo",
        "outputId": "287dbd6c-a04c-4423-f4ae-5f0e1e18c1a0"
      },
      "execution_count": null,
      "outputs": [
        {
          "output_type": "stream",
          "name": "stdout",
          "text": [
            "Matriz de confusión\n",
            "\n",
            " [[ 19 123   0]\n",
            " [  3 243   0]\n",
            " [  3  34   0]] \n",
            "\n",
            "              precision    recall  f1-score   support\n",
            "\n",
            "         Bad       0.76      0.13      0.23       142\n",
            "        Good       0.61      0.99      0.75       246\n",
            "     Neutral       0.00      0.00      0.00        37\n",
            "\n",
            "    accuracy                           0.62       425\n",
            "   macro avg       0.46      0.37      0.33       425\n",
            "weighted avg       0.61      0.62      0.51       425\n",
            "\n"
          ]
        },
        {
          "output_type": "stream",
          "name": "stderr",
          "text": [
            "/usr/local/lib/python3.7/dist-packages/sklearn/metrics/_classification.py:1318: UndefinedMetricWarning: Precision and F-score are ill-defined and being set to 0.0 in labels with no predicted samples. Use `zero_division` parameter to control this behavior.\n",
            "  _warn_prf(average, modifier, msg_start, len(result))\n",
            "/usr/local/lib/python3.7/dist-packages/sklearn/metrics/_classification.py:1318: UndefinedMetricWarning: Precision and F-score are ill-defined and being set to 0.0 in labels with no predicted samples. Use `zero_division` parameter to control this behavior.\n",
            "  _warn_prf(average, modifier, msg_start, len(result))\n",
            "/usr/local/lib/python3.7/dist-packages/sklearn/metrics/_classification.py:1318: UndefinedMetricWarning: Precision and F-score are ill-defined and being set to 0.0 in labels with no predicted samples. Use `zero_division` parameter to control this behavior.\n",
            "  _warn_prf(average, modifier, msg_start, len(result))\n"
          ]
        }
      ]
    },
    {
      "cell_type": "markdown",
      "source": [
        "Respuesta: Dentro de este primer modelo clasificador se puede comentar que a primera vista los resultados son bastantes malos sobre todo en la clasificación de las clases minoritarias, esto debido a que el modelo se sobreajustó en la clase \"Good\" que es la que presenta el mejor recall. El problema con las clases minoritarias se refleja principalmente en los bajos recall, lo cual significa que no está identificando los casos reales de esa clase (sobre todo en Bad donde la precision es 0.76 pero con un bajísimo recall)\n",
        "\n",
        "¿ Nos recomendaría predecir la alineación de BatCow con este clasificador?\n",
        "\n",
        "Respuesta: No es recomendable utilizar este clasificador para predecir si BatCow es Bueno, Malo o Neutral ya que el modelo se encuentra sobre entrenado para la clase Bueno."
      ],
      "metadata": {
        "id": "J7HlyDVgH0Et"
      }
    },
    {
      "cell_type": "code",
      "source": [
        "\n",
        "from sklearn.dummy import DummyClassifier\n",
        "dummy_pipe = Pipeline(\n",
        "    [\n",
        "    (\"preprocesamiento\", ct),\n",
        "    (\"Feature_Selector\", SelectPercentile(f_classif, percentile=90)),\n",
        "    (\"Dummy\", DummyClassifier(strategy=\"stratified\"))\n",
        "    ]\n",
        ")\n",
        "dummy_pipe = dummy_pipe.fit(X_train, y_train)\n",
        "y_pred = dummy_pipe.predict(X_test)\n",
        "\n",
        "from sklearn.metrics import confusion_matrix\n",
        "print(\"Matriz de confusión\\n\\n\", confusion_matrix(y_test, y_pred), \"\\n\")\n",
        "print(classification_report(y_test, y_pred))"
      ],
      "metadata": {
        "colab": {
          "base_uri": "https://localhost:8080/"
        },
        "id": "MWkwtyeIf3E6",
        "outputId": "c39ea995-a7d4-43d4-ddab-70ae326e705e"
      },
      "execution_count": null,
      "outputs": [
        {
          "output_type": "stream",
          "name": "stdout",
          "text": [
            "Matriz de confusión\n",
            "\n",
            " [[ 58  68  16]\n",
            " [ 79 142  25]\n",
            " [ 12  21   4]] \n",
            "\n",
            "              precision    recall  f1-score   support\n",
            "\n",
            "         Bad       0.39      0.41      0.40       142\n",
            "        Good       0.61      0.58      0.60       246\n",
            "     Neutral       0.09      0.11      0.10        37\n",
            "\n",
            "    accuracy                           0.48       425\n",
            "   macro avg       0.36      0.36      0.36       425\n",
            "weighted avg       0.49      0.48      0.49       425\n",
            "\n"
          ]
        }
      ]
    },
    {
      "cell_type": "markdown",
      "source": [
        "\n",
        "\n",
        "Respuesta: El clasificador Dummy, configurado con la estrategia de tipo \"Stratified\", no toma en consideración los atributos de los datos sino que construye distribuciones multinomiales parametrizadas a partir de las probabilidades prior de las clases. Esto es jugar mucho con las probabilidad y dado que no son muchos ejemplos esto no se prodría considera representativo y así también hace referencia su nombre \"dummy\".\n",
        "\n",
        "Ahora, contrastando este clasificador dummy con el baseline obtenido en la celda anterior, se tiene que los resultados no se encuentran muy alejados y tomando en consideración que el dummy es el clasificador más básico a realizar el baseline se encuentra en una escala de resultados sumamente pobre.\n",
        "\n",
        "¿El clasificador entrenado es mejor que el dummy que entrega respuestas al azar?\n",
        "Respuesta: En base a lo comentado anteriormente, el clasificador entrenado no mejora los resultados del dummy"
      ],
      "metadata": {
        "tags": [],
        "cell_id": "f69a4b33bd9442fabbc34bcaf2c87581",
        "deepnote_cell_height": 70.796875,
        "deepnote_cell_type": "markdown",
        "id": "anzML8RCF65N"
      }
    },
    {
      "cell_type": "markdown",
      "source": [
        "## 1.3 Busqueda del Mejor Modelo con Grid Search [4 Puntos]\n",
        "\n",
        "<p align=\"center\">\n",
        "  <img src=\"https://media1.tenor.com/images/70fdfeea52a8e2e4505498c230a0d2f9/tenor.gif?itemid=5134219\" width=\"250\">\n",
        "</p>"
      ],
      "metadata": {
        "id": "pfm7I2B7_rfB",
        "cell_id": "efd50fb630984a12a0a56ced0c73e088",
        "deepnote_cell_height": 400,
        "deepnote_cell_type": "markdown"
      }
    },
    {
      "cell_type": "markdown",
      "source": [
        "No conformes con el rendimiento obtenido en la sección 1.2, el cuerpo docente les pide que realicen un **`HalvingGridSearchCV`** con diferentes parámetros para mejorar el rendimiento de la clasificación. Para esto, se le solicita que defina:\n",
        "\n",
        "- Tres clasificadores distintos en donde varie sus parámetros. Considere usar modelos clásicos como también los basados en ensamblaje.\n",
        "- Modificar `n-gram` range del `CountVectorizer` probando `(1,1), (1,2) y (1,3)`. Examinar también los otros parámetros de CountVectorizer como por ejemplo `max_df`, `min_df`, etc... ([Documentación aquí](https://scikit-learn.org/stable/modules/generated/sklearn.feature_extraction.text.CountVectorizer.html))\n",
        "- Seleccionar las columnas que contribuyen con la mayor información para la clasificación con `SelectPercentile` en los percentiles `[20, 40, 60, 80]` (puede usar la métrica que usted quiera).\n",
        "- Reporte la mejor combinación encontrada y justifique por qué cree que es la mejor según el clasificador usado, la cantidad de columnas seleccionadas y los parámetros de CountVectorizer seleccionados por GridSearch.\n",
        "\n",
        "A continuación, un ejemplo de parametros para GridSearch para una búsqueda de 3 clasificadores distintos:\n",
        "\n",
        "```python\n",
        "params = [\n",
        "       # clasificador 1 + hiperparámetros\n",
        "       {'clf': classificator1(),\n",
        "        'clf__penalty': ['ovr'],\n",
        "       # clasificador 1 + hiperparámetros    \n",
        "       {'clf': classificator2(),\n",
        "        'clf__n_estimators': [200]},\n",
        "       # clasificador 1 + hiperparámetros\n",
        "       {'clf': classificator3(),\n",
        "        ...\n",
        "       }\n",
        "       ]\n",
        "```\n",
        "\n",
        "**Nota 1**: Puede ver los parámetros modificables aplicando el método get_params() sobre su pipeline. Ver la clase de GridSearch para mayor información sobre la sintáxis de las grillas.\n",
        "\n",
        "**Nota 2**: Recuerde inicializar los clasificadores con un random state definido.\n",
        "\n",
        "**Nota 3**: Puede usar en `HalvingGridSearchCV` el parámetro `verbose=10` para ver que GridSearch le indique el estado de su ejecución.\n",
        "\n",
        "**Nota 3:** El GridSearch puede tomar tiempos de búsqueda exorbitantes, por lo que se le recomienda no agrandar mucho el espacio de búsqueda, dejar corriendo el código y tomarse un tecito."
      ],
      "metadata": {
        "id": "14siiavzK67p",
        "cell_id": "69063d71deb042109162f3cb4199b231",
        "deepnote_cell_height": 859.5,
        "deepnote_cell_type": "markdown"
      }
    },
    {
      "cell_type": "code",
      "source": [
        "pipe = Pipeline(\n",
        "    [\n",
        "    (\"preprocesamiento\", ct),\n",
        "    (\"Feature_Selector\", SelectPercentile(f_classif, percentile=90)),\n",
        "    (\"classifier\", RandomForestClassifier())\n",
        "    ]\n",
        ")\n",
        "\n",
        "pipe.get_params()"
      ],
      "metadata": {
        "colab": {
          "base_uri": "https://localhost:8080/"
        },
        "id": "zgMY8GaQ7OpS",
        "outputId": "1559fe5e-d2d7-4462-c033-a9872859325d"
      },
      "execution_count": null,
      "outputs": [
        {
          "output_type": "execute_result",
          "data": {
            "text/plain": [
              "{'memory': None,\n",
              " 'steps': [('preprocesamiento', ColumnTransformer(transformers=[('CountVec',\n",
              "                                    CountVectorizer(ngram_range=(1, 2),\n",
              "                                                    tokenizer=<__main__.StemmerTokenizer object at 0x7f1f6d752490>),\n",
              "                                    'history_text'),\n",
              "                                   ('MinMaxScaler', MinMaxScaler(),\n",
              "                                    ['intelligence_score', 'strength_score',\n",
              "                                     'speed_score', 'durability_score',\n",
              "                                     'power_score', 'combat_score'])])),\n",
              "  ('Feature_Selector', SelectPercentile(percentile=90)),\n",
              "  ('classifier', RandomForestClassifier())],\n",
              " 'verbose': False,\n",
              " 'preprocesamiento': ColumnTransformer(transformers=[('CountVec',\n",
              "                                  CountVectorizer(ngram_range=(1, 2),\n",
              "                                                  tokenizer=<__main__.StemmerTokenizer object at 0x7f1f6d752490>),\n",
              "                                  'history_text'),\n",
              "                                 ('MinMaxScaler', MinMaxScaler(),\n",
              "                                  ['intelligence_score', 'strength_score',\n",
              "                                   'speed_score', 'durability_score',\n",
              "                                   'power_score', 'combat_score'])]),\n",
              " 'Feature_Selector': SelectPercentile(percentile=90),\n",
              " 'classifier': RandomForestClassifier(),\n",
              " 'preprocesamiento__n_jobs': None,\n",
              " 'preprocesamiento__remainder': 'drop',\n",
              " 'preprocesamiento__sparse_threshold': 0.3,\n",
              " 'preprocesamiento__transformer_weights': None,\n",
              " 'preprocesamiento__transformers': [('CountVec',\n",
              "   CountVectorizer(ngram_range=(1, 2),\n",
              "                   tokenizer=<__main__.StemmerTokenizer object at 0x7f1f6d752490>),\n",
              "   'history_text'),\n",
              "  ('MinMaxScaler',\n",
              "   MinMaxScaler(),\n",
              "   ['intelligence_score',\n",
              "    'strength_score',\n",
              "    'speed_score',\n",
              "    'durability_score',\n",
              "    'power_score',\n",
              "    'combat_score'])],\n",
              " 'preprocesamiento__verbose': False,\n",
              " 'preprocesamiento__verbose_feature_names_out': True,\n",
              " 'preprocesamiento__CountVec': CountVectorizer(ngram_range=(1, 2),\n",
              "                 tokenizer=<__main__.StemmerTokenizer object at 0x7f1f6d752490>),\n",
              " 'preprocesamiento__MinMaxScaler': MinMaxScaler(),\n",
              " 'preprocesamiento__CountVec__analyzer': 'word',\n",
              " 'preprocesamiento__CountVec__binary': False,\n",
              " 'preprocesamiento__CountVec__decode_error': 'strict',\n",
              " 'preprocesamiento__CountVec__dtype': numpy.int64,\n",
              " 'preprocesamiento__CountVec__encoding': 'utf-8',\n",
              " 'preprocesamiento__CountVec__input': 'content',\n",
              " 'preprocesamiento__CountVec__lowercase': True,\n",
              " 'preprocesamiento__CountVec__max_df': 1.0,\n",
              " 'preprocesamiento__CountVec__max_features': None,\n",
              " 'preprocesamiento__CountVec__min_df': 1,\n",
              " 'preprocesamiento__CountVec__ngram_range': (1, 2),\n",
              " 'preprocesamiento__CountVec__preprocessor': None,\n",
              " 'preprocesamiento__CountVec__stop_words': None,\n",
              " 'preprocesamiento__CountVec__strip_accents': None,\n",
              " 'preprocesamiento__CountVec__token_pattern': '(?u)\\\\b\\\\w\\\\w+\\\\b',\n",
              " 'preprocesamiento__CountVec__tokenizer': <__main__.StemmerTokenizer at 0x7f1f6d752490>,\n",
              " 'preprocesamiento__CountVec__vocabulary': None,\n",
              " 'preprocesamiento__MinMaxScaler__clip': False,\n",
              " 'preprocesamiento__MinMaxScaler__copy': True,\n",
              " 'preprocesamiento__MinMaxScaler__feature_range': (0, 1),\n",
              " 'Feature_Selector__percentile': 90,\n",
              " 'Feature_Selector__score_func': <function sklearn.feature_selection._univariate_selection.f_classif(X, y)>,\n",
              " 'classifier__bootstrap': True,\n",
              " 'classifier__ccp_alpha': 0.0,\n",
              " 'classifier__class_weight': None,\n",
              " 'classifier__criterion': 'gini',\n",
              " 'classifier__max_depth': None,\n",
              " 'classifier__max_features': 'auto',\n",
              " 'classifier__max_leaf_nodes': None,\n",
              " 'classifier__max_samples': None,\n",
              " 'classifier__min_impurity_decrease': 0.0,\n",
              " 'classifier__min_samples_leaf': 1,\n",
              " 'classifier__min_samples_split': 2,\n",
              " 'classifier__min_weight_fraction_leaf': 0.0,\n",
              " 'classifier__n_estimators': 100,\n",
              " 'classifier__n_jobs': None,\n",
              " 'classifier__oob_score': False,\n",
              " 'classifier__random_state': None,\n",
              " 'classifier__verbose': 0,\n",
              " 'classifier__warm_start': False}"
            ]
          },
          "metadata": {},
          "execution_count": 18
        }
      ]
    },
    {
      "cell_type": "markdown",
      "source": [
        "**Respuesta:**"
      ],
      "metadata": {
        "tags": [],
        "cell_id": "7c9f3de702234ddca989bf2125fab779",
        "deepnote_cell_height": 52.390625,
        "deepnote_cell_type": "markdown",
        "id": "8Qm01tXIF65O"
      }
    },
    {
      "cell_type": "code",
      "source": [
        "#### Código aquí ####\n",
        "from sklearn.experimental import enable_halving_search_cv # noqa\n",
        "from sklearn.model_selection import HalvingGridSearchCV\n",
        "from sklearn.ensemble import GradientBoostingClassifier\n",
        "\n",
        "params = [\n",
        "       # clasificador 1 + hiperparámetros\n",
        "       {'classifier' : [RandomForestClassifier()],\n",
        "        'classifier__n_estimators': [2, 5, 10],\n",
        "        'preprocesamiento__CountVec__ngram_range': [(1,1), (1, 2), (1,3)],\n",
        "        'preprocesamiento__CountVec__max_df': [0.8, 0.9, 1.0],\n",
        "        'preprocesamiento__CountVec__min_df': [0.0, 0.1, 0.2],\n",
        "        'Feature_Selector__percentile': [20, 40, 60, 80]\n",
        "\n",
        "       },\n",
        "       # clasificador 1 + hiperparámetros    \n",
        "       {'classifier': [MultinomialNB()],\n",
        "        'preprocesamiento__CountVec__ngram_range': [(1,1), (1, 2), (1,3)],\n",
        "        'preprocesamiento__CountVec__max_df': [0.8, 0.9, 1.0],\n",
        "        'preprocesamiento__CountVec__min_df': [0.0, 0.1, 0.2],\n",
        "        'Feature_Selector__percentile': [20, 40, 60, 80]\n",
        "       },\n",
        "  \n",
        "       # clasificador 1 + hiperparámetros\n",
        "       {'classifier': [GradientBoostingClassifier(random_state=666)],\n",
        "        'preprocesamiento__CountVec__ngram_range': [(1,1), (1, 2), (1,3)],\n",
        "        'preprocesamiento__CountVec__max_df': [0.8, 0.9, 1.0],\n",
        "        'preprocesamiento__CountVec__min_df': [0.0, 0.1, 0.2],\n",
        "        'Feature_Selector__percentile': [20, 40, 60, 80]\n",
        "       }\n",
        "       ]\n",
        "        \n",
        "search = HalvingGridSearchCV(pipe, params,\n",
        "                             verbose=10,\n",
        "                             cv=3,\n",
        "                             n_jobs=-1, scoring=\"balanced_accuracy\",\n",
        "                             random_state=0).fit(X_train, y_train)\n",
        "search.best_params_  "
      ],
      "metadata": {
        "id": "oNvHOHELUoIv",
        "cell_id": "4663cec8ef58413cb9cf36044d5c8da2",
        "deepnote_cell_height": 66,
        "deepnote_cell_type": "code",
        "colab": {
          "base_uri": "https://localhost:8080/"
        },
        "outputId": "bee3c29b-19ae-4199-abc8-534ab20e3f5a"
      },
      "outputs": [
        {
          "metadata": {
            "tags": null
          },
          "name": "stdout",
          "output_type": "stream",
          "text": [
            "n_iterations: 4\n",
            "n_required_iterations: 6\n",
            "n_possible_iterations: 4\n",
            "min_resources_: 18\n",
            "max_resources_: 860\n",
            "aggressive_elimination: False\n",
            "factor: 3\n",
            "----------\n",
            "iter: 0\n",
            "n_candidates: 540\n",
            "n_resources: 18\n",
            "Fitting 3 folds for each of 540 candidates, totalling 1620 fits\n",
            "----------\n",
            "iter: 1\n",
            "n_candidates: 180\n",
            "n_resources: 54\n",
            "Fitting 3 folds for each of 180 candidates, totalling 540 fits\n",
            "----------\n",
            "iter: 2\n",
            "n_candidates: 60\n",
            "n_resources: 162\n",
            "Fitting 3 folds for each of 60 candidates, totalling 180 fits\n",
            "----------\n",
            "iter: 3\n",
            "n_candidates: 20\n",
            "n_resources: 486\n",
            "Fitting 3 folds for each of 20 candidates, totalling 60 fits\n"
          ]
        },
        {
          "output_type": "execute_result",
          "data": {
            "text/plain": [
              "{'Feature_Selector__percentile': 60,\n",
              " 'classifier': GradientBoostingClassifier(random_state=666),\n",
              " 'preprocesamiento__CountVec__max_df': 0.8,\n",
              " 'preprocesamiento__CountVec__min_df': 0.2,\n",
              " 'preprocesamiento__CountVec__ngram_range': (1, 3)}"
            ]
          },
          "metadata": {},
          "execution_count": 30
        }
      ],
      "execution_count": null
    },
    {
      "cell_type": "code",
      "source": [
        "#Modelo final\n",
        "\n",
        "new_pipe = search.best_estimator_\n",
        "\n",
        "new_pipe = new_pipe.fit(X_train, y_train)\n",
        "y_pred = new_pipe.predict(X_test)\n",
        "\n",
        "from sklearn.metrics import confusion_matrix\n",
        "print(\"Matriz de confusión\\n\\n\", confusion_matrix(y_test, y_pred), \"\\n\")\n",
        "print(classification_report(y_test, y_pred))"
      ],
      "metadata": {
        "colab": {
          "base_uri": "https://localhost:8080/"
        },
        "id": "SZH08gsPSN26",
        "outputId": "b7ff735a-fccb-42ea-b1e0-eae1d1fb3648"
      },
      "execution_count": null,
      "outputs": [
        {
          "output_type": "stream",
          "name": "stdout",
          "text": [
            "Matriz de confusión\n",
            "\n",
            " [[ 57  83   2]\n",
            " [ 38 205   3]\n",
            " [ 17  18   2]] \n",
            "\n",
            "              precision    recall  f1-score   support\n",
            "\n",
            "         Bad       0.51      0.40      0.45       142\n",
            "        Good       0.67      0.83      0.74       246\n",
            "     Neutral       0.29      0.05      0.09        37\n",
            "\n",
            "    accuracy                           0.62       425\n",
            "   macro avg       0.49      0.43      0.43       425\n",
            "weighted avg       0.58      0.62      0.59       425\n",
            "\n"
          ]
        }
      ]
    },
    {
      "cell_type": "markdown",
      "source": [
        "La mejor combinación encontrada para el modelo según la grilla resultó ser el clasificador GradientBoosting(). En cuanto a las features utilizadas sólo se utilizó las que abarcaban el 60%, por lo que un 40% de las columnas no son relevantes a este problema. Por otra parte, el modelo arroja utilizar la mayor cantidad de n-gramas, lo cual tiene sentido dado que es importante tener el mayor contexto posible al vectorizar. Por último, en los mejores parámetros del CountVectorizer se obtuvo mejores resultados con las combinaciones de min_df=0.2 y max_df=0.8, lo cual significa que palabras muy repetidas no son consideradas (sobre el 80%) y pocas repetidas tampoco (bajo el 20%).\n",
        "\n",
        "Comparandolo con el pipeline baseline, obtenemos un accuracy identico de 62%. Sin embargo, en este nuevo pipeline se obtienen mejores resultados globales para las 3 clases y el modelo no está tan dominado por la clase 'Good'. Por lo menos, pudo clasificar 2 heroes como neutros, aunque evidentemente los resultados no son tan buenos y para resolver de mejor forma esta tarea posiblemente sea necesario implementar modelos con mayor capacidad de procesamiento de secuencias como redes neuronales recurrentes."
      ],
      "metadata": {
        "tags": [],
        "cell_id": "807d969e26fc4b049be6482e527b12a4",
        "deepnote_cell_height": 70.796875,
        "deepnote_cell_type": "markdown",
        "id": "-mbS716pF65P"
      }
    },
    {
      "cell_type": "markdown",
      "source": [
        "## 1.4 Predicción del datos sin etiquetado  [0.5 puntos]\n",
        "\n",
        "<p align=\"center\">\n",
        "  <img src=\"https://pbs.twimg.com/media/DolotxUUYAAbg7f.jpg\" width=\"350\">\n",
        "</p>\n"
      ],
      "metadata": {
        "id": "OmQUw2aZ_6z2",
        "cell_id": "e4fd03fac45b4d288f6c67f8bbbf8c18",
        "deepnote_cell_height": 600.15625,
        "deepnote_cell_type": "markdown"
      }
    },
    {
      "cell_type": "markdown",
      "source": [
        "LLego el momento de predecir \n",
        "`Vergil`, `Gorilla Girl` y `Batcow`\n",
        "\n",
        "\n",
        "**Nota:** Recuerde que pueden existir campos vacios en `history_text`, por lo que se les recomienda borrar los nan."
      ],
      "metadata": {
        "id": "Cj0ERBgTBFWN",
        "cell_id": "7f4aa54f58fd436f99c206aab5be6850",
        "deepnote_cell_height": 111.171875,
        "deepnote_cell_type": "markdown"
      }
    },
    {
      "cell_type": "markdown",
      "source": [
        "**Respuesta:**"
      ],
      "metadata": {
        "tags": [],
        "cell_id": "6c3937a8832f4c48bbad30dc1b27d42d",
        "deepnote_cell_height": 52.390625,
        "deepnote_cell_type": "markdown",
        "id": "uHiK8q0PF65Q"
      }
    },
    {
      "cell_type": "code",
      "source": [
        "df = df_comics_no_label.dropna(subset = ['history_text'])\n",
        "df = df.drop(columns=['Unnamed: 0'])\n",
        "df = df.drop_duplicates()\n",
        "\n",
        "df.head()"
      ],
      "metadata": {
        "colab": {
          "base_uri": "https://localhost:8080/",
          "height": 1000
        },
        "id": "CAJR_cuTpSyj",
        "outputId": "44c1216e-bf2b-4ae5-85c2-0e5c89e97be6"
      },
      "execution_count": null,
      "outputs": [
        {
          "output_type": "execute_result",
          "data": {
            "text/plain": [
              "               name    real_name        full_name overall_score  \\\n",
              "0     514A (Gotham)  Bruce Wayne              NaN            10   \n",
              "2             A'dal          NaN              NaN             7   \n",
              "3  Agent Zero (FOX)  David North              NaN             6   \n",
              "4        Ajax (FOX)      Francis  Francis Freeman             7   \n",
              "6   A.M.A.Z.O. (CW)          NaN              NaN            22   \n",
              "\n",
              "                                                                                                                                                                                                                                                                                                                                                                                                                                                                                                                                                                                                                                                                                                                                                                                                                                                                                                                                                                                                                                                                                                                                                                                                                                                                                                                                                                                                                                                                                                                                                                                                                                                                                                                                                                                                                                                                                                                                                                                                                                                                                                                                                                                                                                                                                                                                                                                                                                                                                                                                                                                                                                                                                                                                                                                                                                                                                                                                                                                                                                                                                                                                                                                                                                                                                                                                                                                                                                                                                                                                                                                                                                                                                                                                                                                                                                                                                                  history_text  \\\n",
              "0  He was one of the many prisoners of Indian Hill to be transferred to another facility upstate on the orders of The Court. However, Fish Mooney hijacks the bus and drives it into Gotham City, where the bus crashes when fired upon by Butch Gilzean and his gang. After the mobsters flee at the sight of a resurrected Fish, she herself leaves the scene. An elderly hobo lady hears the cries of the prisoners and releases them, only to be horrified by their monstrous appearance. The monsters depart the prison van and make their way into Gotham City. The Bruce Wayne look-alike departs the bus and thanks the elderly woman before entering the city himself The look-a-like later saw Selina Kyle and Ivy Pepper give some money to a street gang. After Selina Kyle leaves to go meet up with Fish Mooney and her gang, Ivy is visited by the Bruce Wayne look-a-like. He frantically asks her who Bruce Wayne is, confused as to why he looks almost identical to him. Confused and terrified, Ivy runs off to inform Selina of his odd behavior. The look-a-like later snuck into Wayne Manor where Bruce and Alfred Pennyworth find him and are surprised by his appearance. He begs them not to hurt him.While helping himself to some food, the look-a-like stated to Bruce that he was known as Subject 514A and states that he never knew about the other Indian Hill subjects until he was loaded onto the bus that he was later freed from. Bruce objected to Alfred's suggestion to turn him over to someone. Subject 514A later visits Bruce's sparing match with Alfred. Taking his shot with Alfred, Subject 514A managed to easily counter Alfred's moves. When Subject 514A managed to get punched in the nose, Alfred saw that he didn't feel pain. Alfred and Bruce then noticed the scar on the back of his neck. Bruce looks for a clue for the scar on Subject 514A and hides him when Selina Kyle came into view. After watching Bruce and Selina's conversation, Subject 514A started to begin mimicking Bruce's voice. Later that night while Bruce is sleeping, Subject 514A starts cutting his hair. The next morning, Bruce and Alfred find out what Subject 514A did upon finding his cut hair and Bruce's missing clothes. Bruce tells Alfred that they need to find him. Subject 514A arrives in one of the cars from Wayne Manor and invites Selina Kyle to have food with him. While Selina is suspicious on why \"Bruce\" is acting strange, she goes with him anyway.The next day, Selina and Subject 514A walked down the streets as they approach a bar. As Selina goes into the bar, Subject 514A is told to go around back. As Selina is about to have her fingers cut off by the two owners, Subject 514A comes in and beats up the two men. Selina is then cut loose by Subject 514A. After getting away, Selina discovers that Subject 514A is wounded. Upon noticing the scars on him, Selina sees that he is not Bruce. Selina stitches up Subject 514A who states that he has no knowledge of why he was made to look like him and claims that Bruce might have an interest in Selina after watching them from the halls. After being told by Selina about what happened to Firefly and Ivy, Subject 514A then kisses Selina. Bruce and Alfred catch up to Subject 514A who claims that Bruce doesn't know what he wants. Subject 514A claims that he doesn't know why he was created and states that he doesn't belong in Gotham City. He then jumps off the building telling them to say goodbye to Selina for him. Bruce and Alfred then see Subject 514A walk off into the streets. Subject 514A is later visited by Kathryn and Talon while walking on the streets. Kathryn states to Subject 514A that they are his \"real parents\" who have been looking for him for a long time. Subject 514A is then loaded into Kathryn's limo by Talon.   \n",
              "2                                                                                                                                                                                                                                                                                                                                                                                                                                                                                                                                                                                                                                                                                                                                                                                                                                                                                                                                                                                                                                                                                                                                                                                                                                                                                                                                                                                                                                                                                                                                                                                                                                                                                                                                                                                                                                                                                                                                                                                                                                                                                                                                                                                                                                                                                                                                                                                                                                                                                                                                                                                                                                                                                                                                                                                                                                                                                                                                                                                                                                                                                                                                               As with most of the naaru, little is known of A'dal personally, though it appears to count Khadgar and Velen as personal friends. At some point following the destruction of Draenor, A'dal and its compatriots, the Sha'tar, arrived and assisted the Aldor in reclaiming the ruins of Shattrath City. A'dal also approved an alliance between Shattrath's forces and the Sons of Lothar, to the extent that Khadgar moved to Shattrath to assist the Sha'tar. At some point after Illidan's victory over Magtheridon, an army of blood elves marched on the city. But instead of laying siege to Shattrath, their leader, Voren'thal the Seer, knelt before A'dal and pledged the support of his forces, the Scryers, to the cause of A'dal and the Sha'tar.   \n",
              "3                                                                                                                                                                                                                                                                                                                                                                                                                                                                                                                                                                                                                                                                                                                                                                                                                                                                                                                                                                                                                                                                                                                                                                                                                                                                                                                                                                                                                                                                                                                                                                                                                                                                                                                                                                                                                                                                                                                                                                                                                                                                                                                                                                                                                                                                                                                                                                                                                                                                                                                                                                                                                                                                                                                                                                                                                                                                                                                                                                                                                                                                                                                                                                                                                                                                                                                                                                                                                                                                                                                             During mid-late 1973, Zero was a member of Team X, consisting of Chris Bradley, John Wraith,Fred Dukes,Wade Wilson, Victor Creed and James Howlett, under the command of William Stryker. He helped Stryker find the metallic compound known as adamantium. He, along with Victor Creed, were the only ones from Team X that stayed faithful to Stryker when the team disbanded.   \n",
              "4                                                                                                                                                                                                                                                                                                                                                                                                                                                                                                                                                                                                                                                                                                                                                                                                                                                                                                                                                                                                                                                                                                                                                                                                                                                                                                                                                                                                                                                                                                                                                                                                                                                                                                                                                                                                                                                                                                                                                                                                                                                                                                                                                                                                                                                                                                                                                                                                                                                                                                                                                                                                                                                                                                                                                                                                                                                                                                                                                                                                                                                                                                                                                                                                                                                                                                                                                                                                                                                                                                                                                                                                                                                                                                                                                       Ajax (born Francis Freeman) was a human who gained immunity to pain and enhanced reflexes from an augmentation procedure given to him by The Workshop.   \n",
              "6                                                                                                                                                                                                                                                                                                                                                                                                                                                                                                                                                                                                                                                                                                                                                                                                                                                                                                                                                                                                                                                                                                                                                                                                                                                                                                                                                                                                                                                                                                                                                                                                                                                                                                                                                                                                                                                                                                                                                                                                                                                                                                                                                                                                                                                                                                                                                                                                                                                                                                                                                                                                                                                                                                                                                                                                                                                                                                                                                                                                                                                                                                                                                                                                                                                                                                                                                                                                                                                                                                                                                                                                                                                                                               The Anti Meta-human Adaptive Zootomic Organism, simply known as A.M.A.Z.O., was an artificial intelligence robot created by Ivo Laboratories with the ability to copy an individual's physiological abilities.   \n",
              "\n",
              "                                                                                                                                                                                                                                                   powers_text  \\\n",
              "0                                                                                                                                                                                                                                                          NaN   \n",
              "2                                                                                                                                                                                                                                                          NaN   \n",
              "3                                                                                                                    Zero can absorb kinetic energy to further increase physical performance. He is able to fall from great heights, sustaining little injury.   \n",
              "4  Ajax has claimed that the procedure to obtain his powers enhanced his reflexes. He was able to easily block melee attacks from Deadpool, and easily deflect an axe thrown at him at high speeds. Ajax has speed and coordination rivaling that of Deadpool.   \n",
              "6                                                                                                                                                              With its metallic body, it easily overpowered Killer Frost's and Ralph Dibny's powers combined.   \n",
              "\n",
              "   intelligence_score  strength_score  speed_score  durability_score  ...  \\\n",
              "0                 100              20           30                50  ...   \n",
              "2                  85              30           70                55  ...   \n",
              "3                  90              10           25                25  ...   \n",
              "4                  85              25           45                75  ...   \n",
              "6                  90             100          100               100  ...   \n",
              "\n",
              "   has_flight  has_accelerated_healing has_weapons_master has_intelligence  \\\n",
              "0         0.0                      0.0                0.0              0.0   \n",
              "2         0.0                      0.0                0.0              0.0   \n",
              "3         0.0                      0.0                0.0              0.0   \n",
              "4         0.0                      0.0                1.0              1.0   \n",
              "6         1.0                      0.0                1.0              0.0   \n",
              "\n",
              "  has_reflexes has_super_speed has_durability has_stamina  has_agility  \\\n",
              "0          1.0             0.0            1.0         0.0          0.0   \n",
              "2          0.0             0.0            0.0         0.0          0.0   \n",
              "3          1.0             0.0            0.0         0.0          1.0   \n",
              "4          1.0             0.0            1.0         0.0          0.0   \n",
              "6          0.0             0.0            0.0         0.0          0.0   \n",
              "\n",
              "  has_super_strength  \n",
              "0                1.0  \n",
              "2                0.0  \n",
              "3                0.0  \n",
              "4                1.0  \n",
              "6                0.0  \n",
              "\n",
              "[5 rows x 81 columns]"
            ],
            "text/html": [
              "\n",
              "  <div id=\"df-8ff6b26e-1b52-4d0e-868a-a0249f35bc09\">\n",
              "    <div class=\"colab-df-container\">\n",
              "      <div>\n",
              "<style scoped>\n",
              "    .dataframe tbody tr th:only-of-type {\n",
              "        vertical-align: middle;\n",
              "    }\n",
              "\n",
              "    .dataframe tbody tr th {\n",
              "        vertical-align: top;\n",
              "    }\n",
              "\n",
              "    .dataframe thead th {\n",
              "        text-align: right;\n",
              "    }\n",
              "</style>\n",
              "<table border=\"1\" class=\"dataframe\">\n",
              "  <thead>\n",
              "    <tr style=\"text-align: right;\">\n",
              "      <th></th>\n",
              "      <th>name</th>\n",
              "      <th>real_name</th>\n",
              "      <th>full_name</th>\n",
              "      <th>overall_score</th>\n",
              "      <th>history_text</th>\n",
              "      <th>powers_text</th>\n",
              "      <th>intelligence_score</th>\n",
              "      <th>strength_score</th>\n",
              "      <th>speed_score</th>\n",
              "      <th>durability_score</th>\n",
              "      <th>...</th>\n",
              "      <th>has_flight</th>\n",
              "      <th>has_accelerated_healing</th>\n",
              "      <th>has_weapons_master</th>\n",
              "      <th>has_intelligence</th>\n",
              "      <th>has_reflexes</th>\n",
              "      <th>has_super_speed</th>\n",
              "      <th>has_durability</th>\n",
              "      <th>has_stamina</th>\n",
              "      <th>has_agility</th>\n",
              "      <th>has_super_strength</th>\n",
              "    </tr>\n",
              "  </thead>\n",
              "  <tbody>\n",
              "    <tr>\n",
              "      <th>0</th>\n",
              "      <td>514A (Gotham)</td>\n",
              "      <td>Bruce Wayne</td>\n",
              "      <td>NaN</td>\n",
              "      <td>10</td>\n",
              "      <td>He was one of the many prisoners of Indian Hill to be transferred to another facility upstate on the orders of The Court. However, Fish Mooney hijacks the bus and drives it into Gotham City, where the bus crashes when fired upon by Butch Gilzean and his gang. After the mobsters flee at the sight of a resurrected Fish, she herself leaves the scene. An elderly hobo lady hears the cries of the prisoners and releases them, only to be horrified by their monstrous appearance. The monsters depart the prison van and make their way into Gotham City. The Bruce Wayne look-alike departs the bus and thanks the elderly woman before entering the city himself The look-a-like later saw Selina Kyle and Ivy Pepper give some money to a street gang. After Selina Kyle leaves to go meet up with Fish Mooney and her gang, Ivy is visited by the Bruce Wayne look-a-like. He frantically asks her who Bruce Wayne is, confused as to why he looks almost identical to him. Confused and terrified, Ivy runs off to inform Selina of his odd behavior. The look-a-like later snuck into Wayne Manor where Bruce and Alfred Pennyworth find him and are surprised by his appearance. He begs them not to hurt him.While helping himself to some food, the look-a-like stated to Bruce that he was known as Subject 514A and states that he never knew about the other Indian Hill subjects until he was loaded onto the bus that he was later freed from. Bruce objected to Alfred's suggestion to turn him over to someone. Subject 514A later visits Bruce's sparing match with Alfred. Taking his shot with Alfred, Subject 514A managed to easily counter Alfred's moves. When Subject 514A managed to get punched in the nose, Alfred saw that he didn't feel pain. Alfred and Bruce then noticed the scar on the back of his neck. Bruce looks for a clue for the scar on Subject 514A and hides him when Selina Kyle came into view. After watching Bruce and Selina's conversation, Subject 514A started to begin mimicking Bruce's voice. Later that night while Bruce is sleeping, Subject 514A starts cutting his hair. The next morning, Bruce and Alfred find out what Subject 514A did upon finding his cut hair and Bruce's missing clothes. Bruce tells Alfred that they need to find him. Subject 514A arrives in one of the cars from Wayne Manor and invites Selina Kyle to have food with him. While Selina is suspicious on why \"Bruce\" is acting strange, she goes with him anyway.The next day, Selina and Subject 514A walked down the streets as they approach a bar. As Selina goes into the bar, Subject 514A is told to go around back. As Selina is about to have her fingers cut off by the two owners, Subject 514A comes in and beats up the two men. Selina is then cut loose by Subject 514A. After getting away, Selina discovers that Subject 514A is wounded. Upon noticing the scars on him, Selina sees that he is not Bruce. Selina stitches up Subject 514A who states that he has no knowledge of why he was made to look like him and claims that Bruce might have an interest in Selina after watching them from the halls. After being told by Selina about what happened to Firefly and Ivy, Subject 514A then kisses Selina. Bruce and Alfred catch up to Subject 514A who claims that Bruce doesn't know what he wants. Subject 514A claims that he doesn't know why he was created and states that he doesn't belong in Gotham City. He then jumps off the building telling them to say goodbye to Selina for him. Bruce and Alfred then see Subject 514A walk off into the streets. Subject 514A is later visited by Kathryn and Talon while walking on the streets. Kathryn states to Subject 514A that they are his \"real parents\" who have been looking for him for a long time. Subject 514A is then loaded into Kathryn's limo by Talon.</td>\n",
              "      <td>NaN</td>\n",
              "      <td>100</td>\n",
              "      <td>20</td>\n",
              "      <td>30</td>\n",
              "      <td>50</td>\n",
              "      <td>...</td>\n",
              "      <td>0.0</td>\n",
              "      <td>0.0</td>\n",
              "      <td>0.0</td>\n",
              "      <td>0.0</td>\n",
              "      <td>1.0</td>\n",
              "      <td>0.0</td>\n",
              "      <td>1.0</td>\n",
              "      <td>0.0</td>\n",
              "      <td>0.0</td>\n",
              "      <td>1.0</td>\n",
              "    </tr>\n",
              "    <tr>\n",
              "      <th>2</th>\n",
              "      <td>A'dal</td>\n",
              "      <td>NaN</td>\n",
              "      <td>NaN</td>\n",
              "      <td>7</td>\n",
              "      <td>As with most of the naaru, little is known of A'dal personally, though it appears to count Khadgar and Velen as personal friends. At some point following the destruction of Draenor, A'dal and its compatriots, the Sha'tar, arrived and assisted the Aldor in reclaiming the ruins of Shattrath City. A'dal also approved an alliance between Shattrath's forces and the Sons of Lothar, to the extent that Khadgar moved to Shattrath to assist the Sha'tar. At some point after Illidan's victory over Magtheridon, an army of blood elves marched on the city. But instead of laying siege to Shattrath, their leader, Voren'thal the Seer, knelt before A'dal and pledged the support of his forces, the Scryers, to the cause of A'dal and the Sha'tar.</td>\n",
              "      <td>NaN</td>\n",
              "      <td>85</td>\n",
              "      <td>30</td>\n",
              "      <td>70</td>\n",
              "      <td>55</td>\n",
              "      <td>...</td>\n",
              "      <td>0.0</td>\n",
              "      <td>0.0</td>\n",
              "      <td>0.0</td>\n",
              "      <td>0.0</td>\n",
              "      <td>0.0</td>\n",
              "      <td>0.0</td>\n",
              "      <td>0.0</td>\n",
              "      <td>0.0</td>\n",
              "      <td>0.0</td>\n",
              "      <td>0.0</td>\n",
              "    </tr>\n",
              "    <tr>\n",
              "      <th>3</th>\n",
              "      <td>Agent Zero (FOX)</td>\n",
              "      <td>David North</td>\n",
              "      <td>NaN</td>\n",
              "      <td>6</td>\n",
              "      <td>During mid-late 1973, Zero was a member of Team X, consisting of Chris Bradley, John Wraith,Fred Dukes,Wade Wilson, Victor Creed and James Howlett, under the command of William Stryker. He helped Stryker find the metallic compound known as adamantium. He, along with Victor Creed, were the only ones from Team X that stayed faithful to Stryker when the team disbanded.</td>\n",
              "      <td>Zero can absorb kinetic energy to further increase physical performance. He is able to fall from great heights, sustaining little injury.</td>\n",
              "      <td>90</td>\n",
              "      <td>10</td>\n",
              "      <td>25</td>\n",
              "      <td>25</td>\n",
              "      <td>...</td>\n",
              "      <td>0.0</td>\n",
              "      <td>0.0</td>\n",
              "      <td>0.0</td>\n",
              "      <td>0.0</td>\n",
              "      <td>1.0</td>\n",
              "      <td>0.0</td>\n",
              "      <td>0.0</td>\n",
              "      <td>0.0</td>\n",
              "      <td>1.0</td>\n",
              "      <td>0.0</td>\n",
              "    </tr>\n",
              "    <tr>\n",
              "      <th>4</th>\n",
              "      <td>Ajax (FOX)</td>\n",
              "      <td>Francis</td>\n",
              "      <td>Francis Freeman</td>\n",
              "      <td>7</td>\n",
              "      <td>Ajax (born Francis Freeman) was a human who gained immunity to pain and enhanced reflexes from an augmentation procedure given to him by The Workshop.</td>\n",
              "      <td>Ajax has claimed that the procedure to obtain his powers enhanced his reflexes. He was able to easily block melee attacks from Deadpool, and easily deflect an axe thrown at him at high speeds. Ajax has speed and coordination rivaling that of Deadpool.</td>\n",
              "      <td>85</td>\n",
              "      <td>25</td>\n",
              "      <td>45</td>\n",
              "      <td>75</td>\n",
              "      <td>...</td>\n",
              "      <td>0.0</td>\n",
              "      <td>0.0</td>\n",
              "      <td>1.0</td>\n",
              "      <td>1.0</td>\n",
              "      <td>1.0</td>\n",
              "      <td>0.0</td>\n",
              "      <td>1.0</td>\n",
              "      <td>0.0</td>\n",
              "      <td>0.0</td>\n",
              "      <td>1.0</td>\n",
              "    </tr>\n",
              "    <tr>\n",
              "      <th>6</th>\n",
              "      <td>A.M.A.Z.O. (CW)</td>\n",
              "      <td>NaN</td>\n",
              "      <td>NaN</td>\n",
              "      <td>22</td>\n",
              "      <td>The Anti Meta-human Adaptive Zootomic Organism, simply known as A.M.A.Z.O., was an artificial intelligence robot created by Ivo Laboratories with the ability to copy an individual's physiological abilities.</td>\n",
              "      <td>With its metallic body, it easily overpowered Killer Frost's and Ralph Dibny's powers combined.</td>\n",
              "      <td>90</td>\n",
              "      <td>100</td>\n",
              "      <td>100</td>\n",
              "      <td>100</td>\n",
              "      <td>...</td>\n",
              "      <td>1.0</td>\n",
              "      <td>0.0</td>\n",
              "      <td>1.0</td>\n",
              "      <td>0.0</td>\n",
              "      <td>0.0</td>\n",
              "      <td>0.0</td>\n",
              "      <td>0.0</td>\n",
              "      <td>0.0</td>\n",
              "      <td>0.0</td>\n",
              "      <td>0.0</td>\n",
              "    </tr>\n",
              "  </tbody>\n",
              "</table>\n",
              "<p>5 rows × 81 columns</p>\n",
              "</div>\n",
              "      <button class=\"colab-df-convert\" onclick=\"convertToInteractive('df-8ff6b26e-1b52-4d0e-868a-a0249f35bc09')\"\n",
              "              title=\"Convert this dataframe to an interactive table.\"\n",
              "              style=\"display:none;\">\n",
              "        \n",
              "  <svg xmlns=\"http://www.w3.org/2000/svg\" height=\"24px\"viewBox=\"0 0 24 24\"\n",
              "       width=\"24px\">\n",
              "    <path d=\"M0 0h24v24H0V0z\" fill=\"none\"/>\n",
              "    <path d=\"M18.56 5.44l.94 2.06.94-2.06 2.06-.94-2.06-.94-.94-2.06-.94 2.06-2.06.94zm-11 1L8.5 8.5l.94-2.06 2.06-.94-2.06-.94L8.5 2.5l-.94 2.06-2.06.94zm10 10l.94 2.06.94-2.06 2.06-.94-2.06-.94-.94-2.06-.94 2.06-2.06.94z\"/><path d=\"M17.41 7.96l-1.37-1.37c-.4-.4-.92-.59-1.43-.59-.52 0-1.04.2-1.43.59L10.3 9.45l-7.72 7.72c-.78.78-.78 2.05 0 2.83L4 21.41c.39.39.9.59 1.41.59.51 0 1.02-.2 1.41-.59l7.78-7.78 2.81-2.81c.8-.78.8-2.07 0-2.86zM5.41 20L4 18.59l7.72-7.72 1.47 1.35L5.41 20z\"/>\n",
              "  </svg>\n",
              "      </button>\n",
              "      \n",
              "  <style>\n",
              "    .colab-df-container {\n",
              "      display:flex;\n",
              "      flex-wrap:wrap;\n",
              "      gap: 12px;\n",
              "    }\n",
              "\n",
              "    .colab-df-convert {\n",
              "      background-color: #E8F0FE;\n",
              "      border: none;\n",
              "      border-radius: 50%;\n",
              "      cursor: pointer;\n",
              "      display: none;\n",
              "      fill: #1967D2;\n",
              "      height: 32px;\n",
              "      padding: 0 0 0 0;\n",
              "      width: 32px;\n",
              "    }\n",
              "\n",
              "    .colab-df-convert:hover {\n",
              "      background-color: #E2EBFA;\n",
              "      box-shadow: 0px 1px 2px rgba(60, 64, 67, 0.3), 0px 1px 3px 1px rgba(60, 64, 67, 0.15);\n",
              "      fill: #174EA6;\n",
              "    }\n",
              "\n",
              "    [theme=dark] .colab-df-convert {\n",
              "      background-color: #3B4455;\n",
              "      fill: #D2E3FC;\n",
              "    }\n",
              "\n",
              "    [theme=dark] .colab-df-convert:hover {\n",
              "      background-color: #434B5C;\n",
              "      box-shadow: 0px 1px 3px 1px rgba(0, 0, 0, 0.15);\n",
              "      filter: drop-shadow(0px 1px 2px rgba(0, 0, 0, 0.3));\n",
              "      fill: #FFFFFF;\n",
              "    }\n",
              "  </style>\n",
              "\n",
              "      <script>\n",
              "        const buttonEl =\n",
              "          document.querySelector('#df-8ff6b26e-1b52-4d0e-868a-a0249f35bc09 button.colab-df-convert');\n",
              "        buttonEl.style.display =\n",
              "          google.colab.kernel.accessAllowed ? 'block' : 'none';\n",
              "\n",
              "        async function convertToInteractive(key) {\n",
              "          const element = document.querySelector('#df-8ff6b26e-1b52-4d0e-868a-a0249f35bc09');\n",
              "          const dataTable =\n",
              "            await google.colab.kernel.invokeFunction('convertToInteractive',\n",
              "                                                     [key], {});\n",
              "          if (!dataTable) return;\n",
              "\n",
              "          const docLinkHtml = 'Like what you see? Visit the ' +\n",
              "            '<a target=\"_blank\" href=https://colab.research.google.com/notebooks/data_table.ipynb>data table notebook</a>'\n",
              "            + ' to learn more about interactive tables.';\n",
              "          element.innerHTML = '';\n",
              "          dataTable['output_type'] = 'display_data';\n",
              "          await google.colab.output.renderOutput(dataTable, element);\n",
              "          const docLink = document.createElement('div');\n",
              "          docLink.innerHTML = docLinkHtml;\n",
              "          element.appendChild(docLink);\n",
              "        }\n",
              "      </script>\n",
              "    </div>\n",
              "  </div>\n",
              "  "
            ]
          },
          "metadata": {},
          "execution_count": 32
        }
      ]
    },
    {
      "cell_type": "code",
      "source": [
        "pd.set_option('display.max_colwidth', None)"
      ],
      "metadata": {
        "id": "ufNHoz60waLx"
      },
      "execution_count": null,
      "outputs": []
    },
    {
      "cell_type": "code",
      "source": [
        "#Vergil, Gorilla Girl y Batcow\n",
        "Vergil = df.loc[df['name'] == 'Vergil']\n",
        "Gorilla_Girl = df.loc[df['name'] == 'Gorilla Girl']\n",
        "Batcow = df.loc[df['name'] == 'Batcow']\n",
        "print(Batcow['history_text'])\n",
        "print(Gorilla_Girl['history_text'])\n",
        "print(Vergil['history_text'])"
      ],
      "metadata": {
        "colab": {
          "base_uri": "https://localhost:8080/"
        },
        "id": "CK2xYHRhrtBK",
        "outputId": "eebd2ad9-1e2d-4b52-e813-c65187ce465e"
      },
      "execution_count": null,
      "outputs": [
        {
          "output_type": "stream",
          "name": "stdout",
          "text": [
            "16    Bat-Cow was originally a cow that was found by Robin during an investigation on a slaughterhouse, which the cow was sent to. Robin wanted to keep the cow and named it Bat-Cow. Batman decided they would keep the cow. During a later investigation, Batman discovered it had mind-controlling radiation inside of it, leading him to attempt to get rid of the cow. Robin, however would not allow him to hurt the cow. After the events of Robin's death, Bat-Cow and Robin's dog felt a great loss in morale. Alfred Pennyworth and Nightwing had to take care of the cow. Later after Nightwing's disappearance, Alfred was the only caretaker of Bat-Cow. Bat-Cow, complete with cape, spent time on a Wayne Enterprises-owned dairy farm. It was there the cow encountered the cosmic-powered \"Forever People.\" One of them seemed to gain guidance from Bat-Cow's actions, namely when Bat-Cow gave one of the Forever People a scarecrow's hat. Bat-Cow formed a friendship with Titus, a dog and household cat.\n",
            "Name: history_text, dtype: object\n",
            "40    A carnival performer with the ability to turn into a gorilla, Fahnbullah Eddy and the rest of her fellow performers had their souls stolen by the magician Moondark and turned into his mindless slaves. The carnival was freed from Moondark by Spider-Man and Ghost Rider and their souls returned. Sometime after the incident with Moondark, Eddy and her fellow carnival performers Six and Muck briefly operated as a superhero team called the Freaks. In their only known outing as such, the team saved a doctor from being kidnapped by the villains Hammer and Anvil.\n",
            "Name: history_text, dtype: object\n",
            "78    Vergil, later also known as Nelo Angelo, is one of the main characters in Devil May Cry series, acting as the main antagonist of Devil May Cry 3: Dante's Awakening. He is the twin brother and father of the protagonists, Dante and Nero respectively, and seems designed to be their opposites. Despite being the antagonist, Vergil rarely acted beside Dante.\n",
            "Name: history_text, dtype: object\n"
          ]
        }
      ]
    },
    {
      "cell_type": "code",
      "source": [
        "Vergil_pred = new_pipe.predict(Vergil)\n",
        "Gorilla_Girl_pred = new_pipe.predict(Gorilla_Girl)\n",
        "Batcow_pred = new_pipe.predict(Batcow)"
      ],
      "metadata": {
        "id": "z5EsMnfVrr24"
      },
      "execution_count": null,
      "outputs": []
    },
    {
      "cell_type": "code",
      "source": [
        "print(Vergil_pred)\n",
        "print(Gorilla_Girl_pred)\n",
        "print(Batcow_pred)"
      ],
      "metadata": {
        "colab": {
          "base_uri": "https://localhost:8080/"
        },
        "id": "PMGdGpAMsfkR",
        "outputId": "8071adee-17e6-4585-bef7-b65b40c655c7"
      },
      "execution_count": null,
      "outputs": [
        {
          "output_type": "stream",
          "name": "stdout",
          "text": [
            "['Good']\n",
            "['Good']\n",
            "['Bad']\n"
          ]
        }
      ]
    },
    {
      "cell_type": "markdown",
      "source": [
        "Al realizar las predicciones, se puede ver que se predijo correctamente solo un personaje (Gorilla_Girl), ya que Batcow según se descripción debería ser conciderado como bueno y el modelo lo predice como malo, mientras que con Vergil es al revés.\n",
        "\n",
        "Esto demuestra que el modelo pese a tener los mejores parámetros de las combinaciones que se probaron, sigue siendo deficiente para predecir correctamente cada personaje."
      ],
      "metadata": {
        "id": "pFZyRwhZyuLb"
      }
    },
    {
      "cell_type": "markdown",
      "source": [
        "<p align=\"center\">\n",
        "  <img src=\"https://media1.tenor.com/images/fb5bf7cc5a4acb91b4177672886a88ba/tenor.gif?itemid=5591338\">\n",
        "</p>"
      ],
      "metadata": {
        "id": "Rg4ZMq8ezAH6",
        "cell_id": "0ee55c847633405fb2e7cfaade1fc799",
        "deepnote_cell_height": 269,
        "deepnote_cell_type": "markdown"
      }
    },
    {
      "cell_type": "markdown",
      "source": [
        "<a style='text-decoration:none;line-height:16px;display:flex;color:#5B5B62;padding:10px;justify-content:end;' href='https://deepnote.com?utm_source=created-in-deepnote-cell&projectId=87110296-876e-426f-b91d-aaf681223468' target=\"_blank\">\n",
        "<img alt='Created in deepnote.com' style='display:inline;max-height:16px;margin:0px;margin-right:7.5px;' src='data:image/svg+xml;base64,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' > </img>\n",
        "Created in <span style='font-weight:600;margin-left:4px;'>Deepnote</span></a>"
      ],
      "metadata": {
        "tags": [],
        "created_in_deepnote_cell": true,
        "deepnote_cell_type": "markdown",
        "id": "qc72-Xk9F65R"
      }
    }
  ],
  "nbformat": 4,
  "nbformat_minor": 0,
  "metadata": {
    "toc": {
      "sideBar": true,
      "nav_menu": {},
      "toc_cell": false,
      "title_cell": "Tabla de Contenidos",
      "toc_position": {
        "top": "150px",
        "left": "10px",
        "width": "241.867px",
        "height": "calc(100% - 180px)"
      },
      "skip_h1_title": true,
      "title_sidebar": "Contenidos",
      "base_numbering": 1,
      "number_sections": true,
      "toc_window_display": true,
      "toc_section_display": true
    },
    "colab": {
      "provenance": [],
      "collapsed_sections": [
        "LCOUC4jss148",
        "GtG74Cphq56p"
      ]
    },
    "deepnote": {},
    "kernelspec": {
      "name": "python3",
      "language": "python",
      "display_name": "Python 3"
    },
    "varInspector": {
      "cols": {
        "lenVar": 40,
        "lenName": 16,
        "lenType": 16
      },
      "kernels_config": {
        "r": {
          "library": "var_list.r",
          "varRefreshCmd": "cat(var_dic_list()) ",
          "delete_cmd_prefix": "rm(",
          "delete_cmd_postfix": ") "
        },
        "python": {
          "library": "var_list.py",
          "varRefreshCmd": "print(var_dic_list())",
          "delete_cmd_prefix": "del ",
          "delete_cmd_postfix": ""
        }
      },
      "window_display": false,
      "types_to_exclude": [
        "module",
        "function",
        "builtin_function_or_method",
        "instance",
        "_Feature"
      ]
    },
    "language_info": {
      "name": "python",
      "version": "3.8.3",
      "mimetype": "text/x-python",
      "file_extension": ".py",
      "pygments_lexer": "ipython3",
      "codemirror_mode": {
        "name": "ipython",
        "version": 3
      },
      "nbconvert_exporter": "python"
    },
    "deepnote_notebook_id": "b7ffc7ddb4f14fcd976082c27e48a913",
    "deepnote_execution_queue": []
  }
}